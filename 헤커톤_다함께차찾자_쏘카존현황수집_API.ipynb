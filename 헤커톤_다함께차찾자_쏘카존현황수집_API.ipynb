{
  "cells": [
    {
      "cell_type": "markdown",
      "metadata": {
        "id": "view-in-github",
        "colab_type": "text"
      },
      "source": [
        "<a href=\"https://colab.research.google.com/github/buon-viaggio/SOCAR-AI-BOOT-CAMP/blob/main/%ED%97%A4%EC%BB%A4%ED%86%A4_%EB%8B%A4%ED%95%A8%EA%BB%98%EC%B0%A8%EC%B0%BE%EC%9E%90_%EC%8F%98%EC%B9%B4%EC%A1%B4%ED%98%84%ED%99%A9%EC%88%98%EC%A7%91_API.ipynb\" target=\"_parent\"><img src=\"https://colab.research.google.com/assets/colab-badge.svg\" alt=\"Open In Colab\"/></a>"
      ]
    },
    {
      "cell_type": "markdown",
      "metadata": {
        "id": "sWWIeBQ9rjPU"
      },
      "source": [
        "# 쏘카존 거점 현황 가져오기"
      ]
    },
    {
      "cell_type": "markdown",
      "source": [
        "### IMPORT"
      ],
      "metadata": {
        "id": "AQAaB6OsvIOm"
      }
    },
    {
      "cell_type": "code",
      "execution_count": null,
      "metadata": {
        "id": "DNIHMpMid2ZT"
      },
      "outputs": [],
      "source": [
        "import pandas as pd\n",
        "import requests\n",
        "import time\n",
        "#import schedule\n",
        "from bs4 import BeautifulSoup as bs\n",
        "from time import localtime, strftime\n",
        "import datetime\n",
        "from datetime import timedelta\n",
        "import pytz"
      ]
    },
    {
      "cell_type": "markdown",
      "metadata": {
        "id": "-p3U1u6k2Ksx"
      },
      "source": [
        "### 거점 정보 파일 불러오기"
      ]
    },
    {
      "cell_type": "code",
      "execution_count": null,
      "metadata": {
        "colab": {
          "base_uri": "https://localhost:8080/"
        },
        "id": "yhdJD2uCm6LF",
        "outputId": "e55bd4c0-2971-4b4e-bb41-24597507f0f0"
      },
      "outputs": [
        {
          "name": "stdout",
          "output_type": "stream",
          "text": [
            "[2, 4, 18, 40, 47, 49, 51, 53, 55, 57, 61, 62, 64, 67, 77, 78, 80, 83, 90, 93, 102, 104, 105, 106, 107, 110, 113, 115, 119, 127, 128, 133, 134, 136, 138, 142, 143, 144, 146, 147, 152, 164, 169, 171, 174, 179, 181, 183, 184, 186, 191, 193, 195, 199, 200, 204, 205, 206, 207, 211, 228, 229, 242, 248, 249, 251, 254, 255, 263, 264, 269, 277, 281, 282, 284, 287, 291, 294, 300, 304, 305, 306, 310, 319, 321, 322, 323, 325, 327, 335, 337, 345, 347, 348, 352, 354, 360, 366, 367, 369, 370, 379, 386, 387, 396, 407, 411, 413, 416, 428, 435, 436, 444, 447, 448, 456, 457, 464, 468, 470, 473, 477, 482, 484, 485, 486, 489, 490, 494, 495, 498, 499, 506, 507, 513, 515, 519, 520, 522, 523, 529, 530, 535, 538, 540, 542, 545, 548, 554, 556, 560, 566, 567, 578, 580, 583, 596, 604, 606, 607, 608, 611, 616, 617, 626, 627, 628, 630, 637, 638, 643, 644, 646, 656, 659, 663, 664, 670, 671, 673, 680, 687, 691, 695, 699, 701, 705, 714, 721, 728, 729, 731, 734, 736, 737, 740, 741, 742, 748, 750, 752, 756, 759, 771, 774, 777, 782, 785, 788, 791, 793, 794, 796, 800, 804, 805, 806, 812, 816, 827, 831, 837, 838, 841, 846, 855, 856, 865, 866, 870, 872, 873, 878, 879, 880, 882, 885, 886, 888, 896, 902, 903, 904, 909, 916, 923, 926, 933, 937, 938, 943, 947, 950, 953, 954, 962, 965, 969, 971, 983, 987, 989, 991, 992, 993, 994, 996, 1001, 1005, 1008, 1010, 1011, 1012, 1015, 1018, 1019, 1021, 1023, 1032, 1033, 1034, 1037, 1038, 1039, 1043, 1046, 1048, 1051, 1055, 1056, 1057, 1066, 1071, 1073, 1077, 1080, 1087, 1102, 1105, 1107, 1113, 1115, 1116, 1128, 1130, 1137, 1141, 1143, 1149, 1151, 1156, 1157, 1161, 1166, 1167, 1171, 1177, 1181, 1183, 1190, 1195, 1196, 1198, 1201, 1202, 1204, 1212, 1222, 1223, 1224, 1225, 1229, 1240, 1242, 1243, 1244, 1246, 1247, 1250, 1251, 1263, 1271, 1274, 1276, 1278, 1279, 1280, 1283, 1285, 1288, 1289, 1290, 1292, 1295, 1298, 1302, 1304, 1306, 1812, 1910, 1912, 1915, 1917, 1920, 1921, 1923, 1924, 1930, 1931, 1932, 1937, 1939, 1940, 1947, 1951, 1952, 1962, 1963, 1967, 1969, 1970, 1974, 1979, 1982, 2001, 2016, 2017, 2020, 2023, 2024, 2026, 2027, 2031, 2032, 2042, 2067, 2076, 2079, 2080, 2084, 2085, 2086, 2090, 2092, 2094, 2095, 2096, 2100, 2101, 2103, 2104, 2106, 2113, 2114, 2115, 2116, 2117, 2118, 2120, 2122, 2124, 2126, 2131, 2134, 2136, 2138, 2142, 2143, 2149, 2150, 2151, 2163, 2164, 2166, 2173, 2174, 2178, 2183, 2184, 2186, 2188, 2190, 2232, 2235, 2236, 2237, 2241, 2242, 2243, 2244, 2247, 2250, 2251, 2252, 2253, 2254, 2259, 2260, 2273, 2274, 2275, 2277, 2278, 2279, 2280, 2310, 2311, 2313, 2314, 2316, 2317, 2318, 2319, 2320, 2322, 2342, 2344, 2345, 2347, 2348, 2349, 2350, 2359, 2361, 2362, 2363, 2366, 2368, 2381, 2385, 2405, 2406, 2409, 2411, 2412, 2413, 2466, 2468, 2469, 2470, 2471, 2472, 2473, 2477, 2478, 2479, 2480, 2481, 2491, 2492, 2493, 2494, 2495, 2515, 2516, 2520, 2536, 2539, 2540, 2542, 2544, 2545, 2546, 2548, 2552, 2553, 2554, 2555, 2556]\n"
          ]
        }
      ],
      "source": [
        "# 파일 경로 입력 (디렉터리 까지만, 파일위치X)\n",
        "garage = '경로'\n",
        "apikey = 'API Key'\n",
        "# 쏘카존 csv 파일명 입력 (socazone.csv)\n",
        "socar = pd.read_csv(f'{garage}//socarzone.csv', encoding='UTF-8')\n",
        "socarzoneId = socar['place_id'].values.tolist()\n",
        "\n",
        "# 날짜 불러오기\n",
        "utc = datetime.datetime.now(datetime.timezone.utc)\n",
        "kst = utc + timedelta(hours=9)\n",
        "date = kst.strftime('%Y-%m-%d')\n",
        "time = kst.strftime('%H%M')\n",
        "nowtime = kst.strftime('%Y-%m-%d %H:%M')\n",
        "\n",
        "print(socarzoneId)"
      ]
    },
    {
      "cell_type": "markdown",
      "source": [
        "### API 데이터 불러오기"
      ],
      "metadata": {
        "id": "vSIlCibkvY8j"
      }
    },
    {
      "cell_type": "code",
      "execution_count": null,
      "metadata": {
        "id": "ZEAr_xodvaQq"
      },
      "outputs": [],
      "source": [
        "def get_Data():\n",
        "    socarCnt = []\n",
        "    utc = datetime.datetime.now(datetime.timezone.utc)\n",
        "    kst = utc + timedelta(hours=9)\n",
        "    nowtime = kst.strftime('%Y-%m-%d_%H%M')\n",
        "    try:\n",
        "        for id in socarzoneId:\n",
        "            url = f'http://openapi.seoul.go.kr:8088/{apikey}/xml/NanumcarCarList/1/5/{id}/so'\n",
        "\n",
        "            response = requests.get(url)\n",
        "            if response.status_code == 200:\n",
        "                try:\n",
        "                    bs_content = bs(response.content, 'xml')\n",
        "                    allcnt = bs_content.find('reservAbleCnt').text\n",
        "\n",
        "                    socarCnt.append(allcnt)\n",
        "                except Exception as e:\n",
        "                    socarCnt.append(-100)\n",
        "                    print(id, e)\n",
        "                    continue\n",
        "            else:\n",
        "                socarCnt.append(-1)\n",
        "\n",
        "    except Exception as e:\n",
        "        outputdata = pd.DataFrame(socarCnt, columns=[f'{nowtime}'])\n",
        "        # 에러시 저장되는 결과파일 (result_err.csv)\n",
        "        outputdata.to_csv(f'{garage}//result_err-{nowtime}.csv')\n",
        "        print(e)\n",
        "        exit()\n",
        "\n",
        "    outputdata = pd.DataFrame(socarCnt, columns=[f'{nowtime}'])\n",
        "    # 결과파일 (result.csv)\n",
        "    outputdata.to_csv(f'{garage}//result-{nowtime}.csv', mode='a')"
      ]
    },
    {
      "cell_type": "code",
      "source": [
        "%%time\n",
        "# 실행\n",
        "get_Data()"
      ],
      "metadata": {
        "id": "s-lQJ3eyNmj9"
      },
      "execution_count": null,
      "outputs": []
    }
  ],
  "metadata": {
    "accelerator": "GPU",
    "colab": {
      "collapsed_sections": [],
      "name": "헤커톤-다함께차찾자-쏘카존현황수집_API.ipynb",
      "provenance": [],
      "toc_visible": true,
      "mount_file_id": "1S-axJBaKQboIgClIpfIkI4XJktLY_Npj",
      "authorship_tag": "ABX9TyMIPhGRmpoKudIbUMgq/w6i",
      "include_colab_link": true
    },
    "gpuClass": "standard",
    "kernelspec": {
      "display_name": "Python 3",
      "name": "python3"
    },
    "language_info": {
      "name": "python"
    }
  },
  "nbformat": 4,
  "nbformat_minor": 0
}