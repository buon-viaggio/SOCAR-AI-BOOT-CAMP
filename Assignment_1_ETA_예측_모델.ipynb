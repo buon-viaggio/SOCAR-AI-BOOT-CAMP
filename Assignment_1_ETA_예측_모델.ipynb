{
  "nbformat": 4,
  "nbformat_minor": 0,
  "metadata": {
    "celltoolbar": "Raw Cell Format",
    "kernelspec": {
      "display_name": "Python 3",
      "language": "python",
      "name": "python3"
    },
    "language_info": {
      "codemirror_mode": {
        "name": "ipython",
        "version": 3
      },
      "file_extension": ".py",
      "mimetype": "text/x-python",
      "name": "python",
      "nbconvert_exporter": "python",
      "pygments_lexer": "ipython3",
      "version": "3.6.8"
    },
    "colab": {
      "name": "Assignment_1_ETA_예측_모델.ipynb",
      "provenance": [],
      "collapsed_sections": [],
      "toc_visible": true,
      "include_colab_link": true
    }
  },
  "cells": [
    {
      "cell_type": "markdown",
      "metadata": {
        "id": "view-in-github",
        "colab_type": "text"
      },
      "source": [
        "<a href=\"https://colab.research.google.com/github/buon-viaggio/SOCAR-AI-BOOT-CAMP/blob/main/Assignment_1_ETA_%EC%98%88%EC%B8%A1_%EB%AA%A8%EB%8D%B8.ipynb\" target=\"_parent\"><img src=\"https://colab.research.google.com/assets/colab-badge.svg\" alt=\"Open In Colab\"/></a>"
      ]
    },
    {
      "cell_type": "markdown",
      "metadata": {
        "id": "Fo0i64ct8Hma"
      },
      "source": [
        "# Assignment 1. Make the best model for TADA ETA data"
      ]
    },
    {
      "cell_type": "code",
      "metadata": {
        "id": "ZYMRyUBeLD02",
        "colab": {
          "base_uri": "https://localhost:8080/"
        },
        "outputId": "663a2902-5d3c-477a-be20-1feb9a2b2325"
      },
      "source": [
        "from google.colab import drive\n",
        "drive.mount('/content/drive')"
      ],
      "execution_count": null,
      "outputs": [
        {
          "output_type": "stream",
          "name": "stdout",
          "text": [
            "Drive already mounted at /content/drive; to attempt to forcibly remount, call drive.mount(\"/content/drive\", force_remount=True).\n"
          ]
        }
      ]
    },
    {
      "cell_type": "code",
      "metadata": {
        "id": "KoZswxPe2qFw"
      },
      "source": [
        "import pandas as pd\n",
        "import numpy as np\n",
        "import matplotlib.pyplot as plt\n",
        "%matplotlib inline"
      ],
      "execution_count": null,
      "outputs": []
    },
    {
      "cell_type": "markdown",
      "source": [
        "## 데이터셋 생성 방법들\n",
        "\n"
      ],
      "metadata": {
        "id": "xmwB1M0Z0Xpl"
      }
    },
    {
      "cell_type": "markdown",
      "metadata": {
        "id": "y5Zlc0A0wimF"
      },
      "source": [
        "#### 일반 데이터셋 생성"
      ]
    },
    {
      "cell_type": "markdown",
      "metadata": {
        "id": "X2N0yhHUyVAV"
      },
      "source": [
        "\n",
        "\n",
        "*   ATA: Actual Time of Arrival\n",
        "*   ETA: Expected Time of Arrival\n",
        "*   api_eta: 앱 API에서 예측된 ETA\n",
        "\n"
      ]
    },
    {
      "cell_type": "code",
      "metadata": {
        "id": "THzp4Jbj2_WJ",
        "colab": {
          "base_uri": "https://localhost:8080/",
          "height": 323
        },
        "outputId": "18932011-fc84-4828-fc25-4ec4439b3b29"
      },
      "source": [
        "tada_eta = pd.read_excel('/content/drive/MyDrive/Colab Notebooks/data/tada_eta.xlsx')\n",
        "print(tada_eta.columns)\n",
        "tada_eta.head()"
      ],
      "execution_count": null,
      "outputs": [
        {
          "output_type": "stream",
          "name": "stdout",
          "text": [
            "Index(['ATA', 'id', 'api_eta', 'created_at_kst', 'month', 'pickup_lng',\n",
            "       'pickup_lat', 'pickup_gu', 'driver_id', 'driver_lng', 'driver_lat',\n",
            "       'hour'],\n",
            "      dtype='object')\n"
          ]
        },
        {
          "output_type": "execute_result",
          "data": {
            "text/plain": [
              "     ATA              id  api_eta       created_at_kst  month  pickup_lng  \\\n",
              "0  10.60  R4L9FL6NVEL4D0     5.65  2019-12-01T00:55:09     12  127.091399   \n",
              "1   9.20  R3A7JBY7CS6TPD     8.60  2019-12-01T00:09:39     12  127.023351   \n",
              "2  10.85  R2BIUY1TDK14XE    10.53  2019-12-15T00:18:42     12  126.881154   \n",
              "3   5.52  R31PU5GNHSGU6C     1.92  2019-07-31T00:24:11      7  126.988375   \n",
              "4   8.60  R41WR6N1VT42DJ     7.10  2019-07-05T00:40:34      7  126.988684   \n",
              "\n",
              "   pickup_lat pickup_gu driver_id  driver_lng  driver_lat  hour  \n",
              "0   37.624545       노원구  DST52944  127.069978   37.616472     0  \n",
              "1   37.625564       강북구  DPC72995  127.026479   37.604711     0  \n",
              "2   37.481641       금천구  DPP94923  126.906225   37.452167     0  \n",
              "3   37.567897        중구  DCT73585  126.991170   37.566416     0  \n",
              "4   37.566716        중구  DPJ86237  127.006860   37.571164     0  "
            ],
            "text/html": [
              "\n",
              "  <div id=\"df-1fcddfa2-6f6f-47b7-99f9-536e4a988ce2\">\n",
              "    <div class=\"colab-df-container\">\n",
              "      <div>\n",
              "<style scoped>\n",
              "    .dataframe tbody tr th:only-of-type {\n",
              "        vertical-align: middle;\n",
              "    }\n",
              "\n",
              "    .dataframe tbody tr th {\n",
              "        vertical-align: top;\n",
              "    }\n",
              "\n",
              "    .dataframe thead th {\n",
              "        text-align: right;\n",
              "    }\n",
              "</style>\n",
              "<table border=\"1\" class=\"dataframe\">\n",
              "  <thead>\n",
              "    <tr style=\"text-align: right;\">\n",
              "      <th></th>\n",
              "      <th>ATA</th>\n",
              "      <th>id</th>\n",
              "      <th>api_eta</th>\n",
              "      <th>created_at_kst</th>\n",
              "      <th>month</th>\n",
              "      <th>pickup_lng</th>\n",
              "      <th>pickup_lat</th>\n",
              "      <th>pickup_gu</th>\n",
              "      <th>driver_id</th>\n",
              "      <th>driver_lng</th>\n",
              "      <th>driver_lat</th>\n",
              "      <th>hour</th>\n",
              "    </tr>\n",
              "  </thead>\n",
              "  <tbody>\n",
              "    <tr>\n",
              "      <th>0</th>\n",
              "      <td>10.60</td>\n",
              "      <td>R4L9FL6NVEL4D0</td>\n",
              "      <td>5.65</td>\n",
              "      <td>2019-12-01T00:55:09</td>\n",
              "      <td>12</td>\n",
              "      <td>127.091399</td>\n",
              "      <td>37.624545</td>\n",
              "      <td>노원구</td>\n",
              "      <td>DST52944</td>\n",
              "      <td>127.069978</td>\n",
              "      <td>37.616472</td>\n",
              "      <td>0</td>\n",
              "    </tr>\n",
              "    <tr>\n",
              "      <th>1</th>\n",
              "      <td>9.20</td>\n",
              "      <td>R3A7JBY7CS6TPD</td>\n",
              "      <td>8.60</td>\n",
              "      <td>2019-12-01T00:09:39</td>\n",
              "      <td>12</td>\n",
              "      <td>127.023351</td>\n",
              "      <td>37.625564</td>\n",
              "      <td>강북구</td>\n",
              "      <td>DPC72995</td>\n",
              "      <td>127.026479</td>\n",
              "      <td>37.604711</td>\n",
              "      <td>0</td>\n",
              "    </tr>\n",
              "    <tr>\n",
              "      <th>2</th>\n",
              "      <td>10.85</td>\n",
              "      <td>R2BIUY1TDK14XE</td>\n",
              "      <td>10.53</td>\n",
              "      <td>2019-12-15T00:18:42</td>\n",
              "      <td>12</td>\n",
              "      <td>126.881154</td>\n",
              "      <td>37.481641</td>\n",
              "      <td>금천구</td>\n",
              "      <td>DPP94923</td>\n",
              "      <td>126.906225</td>\n",
              "      <td>37.452167</td>\n",
              "      <td>0</td>\n",
              "    </tr>\n",
              "    <tr>\n",
              "      <th>3</th>\n",
              "      <td>5.52</td>\n",
              "      <td>R31PU5GNHSGU6C</td>\n",
              "      <td>1.92</td>\n",
              "      <td>2019-07-31T00:24:11</td>\n",
              "      <td>7</td>\n",
              "      <td>126.988375</td>\n",
              "      <td>37.567897</td>\n",
              "      <td>중구</td>\n",
              "      <td>DCT73585</td>\n",
              "      <td>126.991170</td>\n",
              "      <td>37.566416</td>\n",
              "      <td>0</td>\n",
              "    </tr>\n",
              "    <tr>\n",
              "      <th>4</th>\n",
              "      <td>8.60</td>\n",
              "      <td>R41WR6N1VT42DJ</td>\n",
              "      <td>7.10</td>\n",
              "      <td>2019-07-05T00:40:34</td>\n",
              "      <td>7</td>\n",
              "      <td>126.988684</td>\n",
              "      <td>37.566716</td>\n",
              "      <td>중구</td>\n",
              "      <td>DPJ86237</td>\n",
              "      <td>127.006860</td>\n",
              "      <td>37.571164</td>\n",
              "      <td>0</td>\n",
              "    </tr>\n",
              "  </tbody>\n",
              "</table>\n",
              "</div>\n",
              "      <button class=\"colab-df-convert\" onclick=\"convertToInteractive('df-1fcddfa2-6f6f-47b7-99f9-536e4a988ce2')\"\n",
              "              title=\"Convert this dataframe to an interactive table.\"\n",
              "              style=\"display:none;\">\n",
              "        \n",
              "  <svg xmlns=\"http://www.w3.org/2000/svg\" height=\"24px\"viewBox=\"0 0 24 24\"\n",
              "       width=\"24px\">\n",
              "    <path d=\"M0 0h24v24H0V0z\" fill=\"none\"/>\n",
              "    <path d=\"M18.56 5.44l.94 2.06.94-2.06 2.06-.94-2.06-.94-.94-2.06-.94 2.06-2.06.94zm-11 1L8.5 8.5l.94-2.06 2.06-.94-2.06-.94L8.5 2.5l-.94 2.06-2.06.94zm10 10l.94 2.06.94-2.06 2.06-.94-2.06-.94-.94-2.06-.94 2.06-2.06.94z\"/><path d=\"M17.41 7.96l-1.37-1.37c-.4-.4-.92-.59-1.43-.59-.52 0-1.04.2-1.43.59L10.3 9.45l-7.72 7.72c-.78.78-.78 2.05 0 2.83L4 21.41c.39.39.9.59 1.41.59.51 0 1.02-.2 1.41-.59l7.78-7.78 2.81-2.81c.8-.78.8-2.07 0-2.86zM5.41 20L4 18.59l7.72-7.72 1.47 1.35L5.41 20z\"/>\n",
              "  </svg>\n",
              "      </button>\n",
              "      \n",
              "  <style>\n",
              "    .colab-df-container {\n",
              "      display:flex;\n",
              "      flex-wrap:wrap;\n",
              "      gap: 12px;\n",
              "    }\n",
              "\n",
              "    .colab-df-convert {\n",
              "      background-color: #E8F0FE;\n",
              "      border: none;\n",
              "      border-radius: 50%;\n",
              "      cursor: pointer;\n",
              "      display: none;\n",
              "      fill: #1967D2;\n",
              "      height: 32px;\n",
              "      padding: 0 0 0 0;\n",
              "      width: 32px;\n",
              "    }\n",
              "\n",
              "    .colab-df-convert:hover {\n",
              "      background-color: #E2EBFA;\n",
              "      box-shadow: 0px 1px 2px rgba(60, 64, 67, 0.3), 0px 1px 3px 1px rgba(60, 64, 67, 0.15);\n",
              "      fill: #174EA6;\n",
              "    }\n",
              "\n",
              "    [theme=dark] .colab-df-convert {\n",
              "      background-color: #3B4455;\n",
              "      fill: #D2E3FC;\n",
              "    }\n",
              "\n",
              "    [theme=dark] .colab-df-convert:hover {\n",
              "      background-color: #434B5C;\n",
              "      box-shadow: 0px 1px 3px 1px rgba(0, 0, 0, 0.15);\n",
              "      filter: drop-shadow(0px 1px 2px rgba(0, 0, 0, 0.3));\n",
              "      fill: #FFFFFF;\n",
              "    }\n",
              "  </style>\n",
              "\n",
              "      <script>\n",
              "        const buttonEl =\n",
              "          document.querySelector('#df-1fcddfa2-6f6f-47b7-99f9-536e4a988ce2 button.colab-df-convert');\n",
              "        buttonEl.style.display =\n",
              "          google.colab.kernel.accessAllowed ? 'block' : 'none';\n",
              "\n",
              "        async function convertToInteractive(key) {\n",
              "          const element = document.querySelector('#df-1fcddfa2-6f6f-47b7-99f9-536e4a988ce2');\n",
              "          const dataTable =\n",
              "            await google.colab.kernel.invokeFunction('convertToInteractive',\n",
              "                                                     [key], {});\n",
              "          if (!dataTable) return;\n",
              "\n",
              "          const docLinkHtml = 'Like what you see? Visit the ' +\n",
              "            '<a target=\"_blank\" href=https://colab.research.google.com/notebooks/data_table.ipynb>data table notebook</a>'\n",
              "            + ' to learn more about interactive tables.';\n",
              "          element.innerHTML = '';\n",
              "          dataTable['output_type'] = 'display_data';\n",
              "          await google.colab.output.renderOutput(dataTable, element);\n",
              "          const docLink = document.createElement('div');\n",
              "          docLink.innerHTML = docLinkHtml;\n",
              "          element.appendChild(docLink);\n",
              "        }\n",
              "      </script>\n",
              "    </div>\n",
              "  </div>\n",
              "  "
            ]
          },
          "metadata": {},
          "execution_count": 250
        }
      ]
    },
    {
      "cell_type": "code",
      "metadata": {
        "id": "wRJxzcksZMar",
        "colab": {
          "base_uri": "https://localhost:8080/",
          "height": 262
        },
        "outputId": "cbed2e49-03fd-4b2b-b739-d6c92dd095cc"
      },
      "source": [
        "tada_eta['distance'] = ((tada_eta['pickup_lat']-tada_eta['driver_lat'])**2 + (tada_eta['pickup_lng']-tada_eta['driver_lng'])**2)*100000\n",
        "tada_eta = tada_eta.drop(['id', 'created_at_kst', 'driver_id', 'pickup_lng', 'pickup_lat', 'driver_lng','driver_lat','pickup_gu'],1)\n",
        "tada_eta.head()"
      ],
      "execution_count": null,
      "outputs": [
        {
          "output_type": "stream",
          "name": "stderr",
          "text": [
            "/usr/local/lib/python3.7/dist-packages/ipykernel_launcher.py:2: FutureWarning: In a future version of pandas all arguments of DataFrame.drop except for the argument 'labels' will be keyword-only\n",
            "  \n"
          ]
        },
        {
          "output_type": "execute_result",
          "data": {
            "text/plain": [
              "     ATA  api_eta  month  hour    distance\n",
              "0  10.60     5.65     12     0   52.400202\n",
              "1   9.20     8.60     12     0   44.465889\n",
              "2  10.85    10.53     12     0  149.731535\n",
              "3   5.52     1.92      7     0    1.000535\n",
              "4   8.60     7.10      7     0   35.014797"
            ],
            "text/html": [
              "\n",
              "  <div id=\"df-578137ba-3be7-46a0-bd5c-ef4a01b5fa35\">\n",
              "    <div class=\"colab-df-container\">\n",
              "      <div>\n",
              "<style scoped>\n",
              "    .dataframe tbody tr th:only-of-type {\n",
              "        vertical-align: middle;\n",
              "    }\n",
              "\n",
              "    .dataframe tbody tr th {\n",
              "        vertical-align: top;\n",
              "    }\n",
              "\n",
              "    .dataframe thead th {\n",
              "        text-align: right;\n",
              "    }\n",
              "</style>\n",
              "<table border=\"1\" class=\"dataframe\">\n",
              "  <thead>\n",
              "    <tr style=\"text-align: right;\">\n",
              "      <th></th>\n",
              "      <th>ATA</th>\n",
              "      <th>api_eta</th>\n",
              "      <th>month</th>\n",
              "      <th>hour</th>\n",
              "      <th>distance</th>\n",
              "    </tr>\n",
              "  </thead>\n",
              "  <tbody>\n",
              "    <tr>\n",
              "      <th>0</th>\n",
              "      <td>10.60</td>\n",
              "      <td>5.65</td>\n",
              "      <td>12</td>\n",
              "      <td>0</td>\n",
              "      <td>52.400202</td>\n",
              "    </tr>\n",
              "    <tr>\n",
              "      <th>1</th>\n",
              "      <td>9.20</td>\n",
              "      <td>8.60</td>\n",
              "      <td>12</td>\n",
              "      <td>0</td>\n",
              "      <td>44.465889</td>\n",
              "    </tr>\n",
              "    <tr>\n",
              "      <th>2</th>\n",
              "      <td>10.85</td>\n",
              "      <td>10.53</td>\n",
              "      <td>12</td>\n",
              "      <td>0</td>\n",
              "      <td>149.731535</td>\n",
              "    </tr>\n",
              "    <tr>\n",
              "      <th>3</th>\n",
              "      <td>5.52</td>\n",
              "      <td>1.92</td>\n",
              "      <td>7</td>\n",
              "      <td>0</td>\n",
              "      <td>1.000535</td>\n",
              "    </tr>\n",
              "    <tr>\n",
              "      <th>4</th>\n",
              "      <td>8.60</td>\n",
              "      <td>7.10</td>\n",
              "      <td>7</td>\n",
              "      <td>0</td>\n",
              "      <td>35.014797</td>\n",
              "    </tr>\n",
              "  </tbody>\n",
              "</table>\n",
              "</div>\n",
              "      <button class=\"colab-df-convert\" onclick=\"convertToInteractive('df-578137ba-3be7-46a0-bd5c-ef4a01b5fa35')\"\n",
              "              title=\"Convert this dataframe to an interactive table.\"\n",
              "              style=\"display:none;\">\n",
              "        \n",
              "  <svg xmlns=\"http://www.w3.org/2000/svg\" height=\"24px\"viewBox=\"0 0 24 24\"\n",
              "       width=\"24px\">\n",
              "    <path d=\"M0 0h24v24H0V0z\" fill=\"none\"/>\n",
              "    <path d=\"M18.56 5.44l.94 2.06.94-2.06 2.06-.94-2.06-.94-.94-2.06-.94 2.06-2.06.94zm-11 1L8.5 8.5l.94-2.06 2.06-.94-2.06-.94L8.5 2.5l-.94 2.06-2.06.94zm10 10l.94 2.06.94-2.06 2.06-.94-2.06-.94-.94-2.06-.94 2.06-2.06.94z\"/><path d=\"M17.41 7.96l-1.37-1.37c-.4-.4-.92-.59-1.43-.59-.52 0-1.04.2-1.43.59L10.3 9.45l-7.72 7.72c-.78.78-.78 2.05 0 2.83L4 21.41c.39.39.9.59 1.41.59.51 0 1.02-.2 1.41-.59l7.78-7.78 2.81-2.81c.8-.78.8-2.07 0-2.86zM5.41 20L4 18.59l7.72-7.72 1.47 1.35L5.41 20z\"/>\n",
              "  </svg>\n",
              "      </button>\n",
              "      \n",
              "  <style>\n",
              "    .colab-df-container {\n",
              "      display:flex;\n",
              "      flex-wrap:wrap;\n",
              "      gap: 12px;\n",
              "    }\n",
              "\n",
              "    .colab-df-convert {\n",
              "      background-color: #E8F0FE;\n",
              "      border: none;\n",
              "      border-radius: 50%;\n",
              "      cursor: pointer;\n",
              "      display: none;\n",
              "      fill: #1967D2;\n",
              "      height: 32px;\n",
              "      padding: 0 0 0 0;\n",
              "      width: 32px;\n",
              "    }\n",
              "\n",
              "    .colab-df-convert:hover {\n",
              "      background-color: #E2EBFA;\n",
              "      box-shadow: 0px 1px 2px rgba(60, 64, 67, 0.3), 0px 1px 3px 1px rgba(60, 64, 67, 0.15);\n",
              "      fill: #174EA6;\n",
              "    }\n",
              "\n",
              "    [theme=dark] .colab-df-convert {\n",
              "      background-color: #3B4455;\n",
              "      fill: #D2E3FC;\n",
              "    }\n",
              "\n",
              "    [theme=dark] .colab-df-convert:hover {\n",
              "      background-color: #434B5C;\n",
              "      box-shadow: 0px 1px 3px 1px rgba(0, 0, 0, 0.15);\n",
              "      filter: drop-shadow(0px 1px 2px rgba(0, 0, 0, 0.3));\n",
              "      fill: #FFFFFF;\n",
              "    }\n",
              "  </style>\n",
              "\n",
              "      <script>\n",
              "        const buttonEl =\n",
              "          document.querySelector('#df-578137ba-3be7-46a0-bd5c-ef4a01b5fa35 button.colab-df-convert');\n",
              "        buttonEl.style.display =\n",
              "          google.colab.kernel.accessAllowed ? 'block' : 'none';\n",
              "\n",
              "        async function convertToInteractive(key) {\n",
              "          const element = document.querySelector('#df-578137ba-3be7-46a0-bd5c-ef4a01b5fa35');\n",
              "          const dataTable =\n",
              "            await google.colab.kernel.invokeFunction('convertToInteractive',\n",
              "                                                     [key], {});\n",
              "          if (!dataTable) return;\n",
              "\n",
              "          const docLinkHtml = 'Like what you see? Visit the ' +\n",
              "            '<a target=\"_blank\" href=https://colab.research.google.com/notebooks/data_table.ipynb>data table notebook</a>'\n",
              "            + ' to learn more about interactive tables.';\n",
              "          element.innerHTML = '';\n",
              "          dataTable['output_type'] = 'display_data';\n",
              "          await google.colab.output.renderOutput(dataTable, element);\n",
              "          const docLink = document.createElement('div');\n",
              "          docLink.innerHTML = docLinkHtml;\n",
              "          element.appendChild(docLink);\n",
              "        }\n",
              "      </script>\n",
              "    </div>\n",
              "  </div>\n",
              "  "
            ]
          },
          "metadata": {},
          "execution_count": 251
        }
      ]
    },
    {
      "cell_type": "code",
      "metadata": {
        "id": "uEwB3AeKyD77",
        "colab": {
          "base_uri": "https://localhost:8080/",
          "height": 206
        },
        "outputId": "02442bb1-b669-4ee7-a4a4-3f12bc84cda5"
      },
      "source": [
        "tada_eta = tada_eta.sample(frac=1, random_state=0).reset_index(drop=True)\n",
        "tada_eta.head()"
      ],
      "execution_count": null,
      "outputs": [
        {
          "output_type": "execute_result",
          "data": {
            "text/plain": [
              "     ATA  api_eta  month  hour   distance\n",
              "0   6.13     8.32     12    22  44.521977\n",
              "1   5.37     3.05     12    11   3.989066\n",
              "2   6.27     5.00      7    19   4.814699\n",
              "3  10.52     8.47     12    21  77.341173\n",
              "4  12.45     6.65      7    12  14.888851"
            ],
            "text/html": [
              "\n",
              "  <div id=\"df-68141ba9-32fe-4892-b551-3eb84109e005\">\n",
              "    <div class=\"colab-df-container\">\n",
              "      <div>\n",
              "<style scoped>\n",
              "    .dataframe tbody tr th:only-of-type {\n",
              "        vertical-align: middle;\n",
              "    }\n",
              "\n",
              "    .dataframe tbody tr th {\n",
              "        vertical-align: top;\n",
              "    }\n",
              "\n",
              "    .dataframe thead th {\n",
              "        text-align: right;\n",
              "    }\n",
              "</style>\n",
              "<table border=\"1\" class=\"dataframe\">\n",
              "  <thead>\n",
              "    <tr style=\"text-align: right;\">\n",
              "      <th></th>\n",
              "      <th>ATA</th>\n",
              "      <th>api_eta</th>\n",
              "      <th>month</th>\n",
              "      <th>hour</th>\n",
              "      <th>distance</th>\n",
              "    </tr>\n",
              "  </thead>\n",
              "  <tbody>\n",
              "    <tr>\n",
              "      <th>0</th>\n",
              "      <td>6.13</td>\n",
              "      <td>8.32</td>\n",
              "      <td>12</td>\n",
              "      <td>22</td>\n",
              "      <td>44.521977</td>\n",
              "    </tr>\n",
              "    <tr>\n",
              "      <th>1</th>\n",
              "      <td>5.37</td>\n",
              "      <td>3.05</td>\n",
              "      <td>12</td>\n",
              "      <td>11</td>\n",
              "      <td>3.989066</td>\n",
              "    </tr>\n",
              "    <tr>\n",
              "      <th>2</th>\n",
              "      <td>6.27</td>\n",
              "      <td>5.00</td>\n",
              "      <td>7</td>\n",
              "      <td>19</td>\n",
              "      <td>4.814699</td>\n",
              "    </tr>\n",
              "    <tr>\n",
              "      <th>3</th>\n",
              "      <td>10.52</td>\n",
              "      <td>8.47</td>\n",
              "      <td>12</td>\n",
              "      <td>21</td>\n",
              "      <td>77.341173</td>\n",
              "    </tr>\n",
              "    <tr>\n",
              "      <th>4</th>\n",
              "      <td>12.45</td>\n",
              "      <td>6.65</td>\n",
              "      <td>7</td>\n",
              "      <td>12</td>\n",
              "      <td>14.888851</td>\n",
              "    </tr>\n",
              "  </tbody>\n",
              "</table>\n",
              "</div>\n",
              "      <button class=\"colab-df-convert\" onclick=\"convertToInteractive('df-68141ba9-32fe-4892-b551-3eb84109e005')\"\n",
              "              title=\"Convert this dataframe to an interactive table.\"\n",
              "              style=\"display:none;\">\n",
              "        \n",
              "  <svg xmlns=\"http://www.w3.org/2000/svg\" height=\"24px\"viewBox=\"0 0 24 24\"\n",
              "       width=\"24px\">\n",
              "    <path d=\"M0 0h24v24H0V0z\" fill=\"none\"/>\n",
              "    <path d=\"M18.56 5.44l.94 2.06.94-2.06 2.06-.94-2.06-.94-.94-2.06-.94 2.06-2.06.94zm-11 1L8.5 8.5l.94-2.06 2.06-.94-2.06-.94L8.5 2.5l-.94 2.06-2.06.94zm10 10l.94 2.06.94-2.06 2.06-.94-2.06-.94-.94-2.06-.94 2.06-2.06.94z\"/><path d=\"M17.41 7.96l-1.37-1.37c-.4-.4-.92-.59-1.43-.59-.52 0-1.04.2-1.43.59L10.3 9.45l-7.72 7.72c-.78.78-.78 2.05 0 2.83L4 21.41c.39.39.9.59 1.41.59.51 0 1.02-.2 1.41-.59l7.78-7.78 2.81-2.81c.8-.78.8-2.07 0-2.86zM5.41 20L4 18.59l7.72-7.72 1.47 1.35L5.41 20z\"/>\n",
              "  </svg>\n",
              "      </button>\n",
              "      \n",
              "  <style>\n",
              "    .colab-df-container {\n",
              "      display:flex;\n",
              "      flex-wrap:wrap;\n",
              "      gap: 12px;\n",
              "    }\n",
              "\n",
              "    .colab-df-convert {\n",
              "      background-color: #E8F0FE;\n",
              "      border: none;\n",
              "      border-radius: 50%;\n",
              "      cursor: pointer;\n",
              "      display: none;\n",
              "      fill: #1967D2;\n",
              "      height: 32px;\n",
              "      padding: 0 0 0 0;\n",
              "      width: 32px;\n",
              "    }\n",
              "\n",
              "    .colab-df-convert:hover {\n",
              "      background-color: #E2EBFA;\n",
              "      box-shadow: 0px 1px 2px rgba(60, 64, 67, 0.3), 0px 1px 3px 1px rgba(60, 64, 67, 0.15);\n",
              "      fill: #174EA6;\n",
              "    }\n",
              "\n",
              "    [theme=dark] .colab-df-convert {\n",
              "      background-color: #3B4455;\n",
              "      fill: #D2E3FC;\n",
              "    }\n",
              "\n",
              "    [theme=dark] .colab-df-convert:hover {\n",
              "      background-color: #434B5C;\n",
              "      box-shadow: 0px 1px 3px 1px rgba(0, 0, 0, 0.15);\n",
              "      filter: drop-shadow(0px 1px 2px rgba(0, 0, 0, 0.3));\n",
              "      fill: #FFFFFF;\n",
              "    }\n",
              "  </style>\n",
              "\n",
              "      <script>\n",
              "        const buttonEl =\n",
              "          document.querySelector('#df-68141ba9-32fe-4892-b551-3eb84109e005 button.colab-df-convert');\n",
              "        buttonEl.style.display =\n",
              "          google.colab.kernel.accessAllowed ? 'block' : 'none';\n",
              "\n",
              "        async function convertToInteractive(key) {\n",
              "          const element = document.querySelector('#df-68141ba9-32fe-4892-b551-3eb84109e005');\n",
              "          const dataTable =\n",
              "            await google.colab.kernel.invokeFunction('convertToInteractive',\n",
              "                                                     [key], {});\n",
              "          if (!dataTable) return;\n",
              "\n",
              "          const docLinkHtml = 'Like what you see? Visit the ' +\n",
              "            '<a target=\"_blank\" href=https://colab.research.google.com/notebooks/data_table.ipynb>data table notebook</a>'\n",
              "            + ' to learn more about interactive tables.';\n",
              "          element.innerHTML = '';\n",
              "          dataTable['output_type'] = 'display_data';\n",
              "          await google.colab.output.renderOutput(dataTable, element);\n",
              "          const docLink = document.createElement('div');\n",
              "          docLink.innerHTML = docLinkHtml;\n",
              "          element.appendChild(docLink);\n",
              "        }\n",
              "      </script>\n",
              "    </div>\n",
              "  </div>\n",
              "  "
            ]
          },
          "metadata": {},
          "execution_count": 252
        }
      ]
    },
    {
      "cell_type": "code",
      "metadata": {
        "id": "JSvO1kHyxYBB",
        "colab": {
          "base_uri": "https://localhost:8080/"
        },
        "outputId": "ee67f4d0-8ff0-4730-8ae7-1a52c72301c1"
      },
      "source": [
        "tada_eta.shape"
      ],
      "execution_count": null,
      "outputs": [
        {
          "output_type": "execute_result",
          "data": {
            "text/plain": [
              "(13916, 5)"
            ]
          },
          "metadata": {},
          "execution_count": 254
        }
      ]
    },
    {
      "cell_type": "code",
      "metadata": {
        "id": "0MM11kIzxuQN"
      },
      "source": [
        "train = tada_eta[:12000]\n",
        "test = tada_eta[12000:]"
      ],
      "execution_count": null,
      "outputs": []
    },
    {
      "cell_type": "code",
      "metadata": {
        "id": "G9hpdHGLohFg",
        "colab": {
          "base_uri": "https://localhost:8080/"
        },
        "outputId": "adeba3b9-554c-42fe-a1a2-28403600e915"
      },
      "source": [
        "x_train = np.asarray(train.drop('ATA',1))\n",
        "y_train = np.asarray(train['ATA'])\n",
        "x_test = np.asarray(test.drop('ATA',1))\n",
        "y_test = np.asarray(test['ATA'])\n",
        "eta_features = [x for i,x in enumerate(tada_eta.columns) if i!=0]"
      ],
      "execution_count": null,
      "outputs": [
        {
          "output_type": "stream",
          "name": "stderr",
          "text": [
            "/usr/local/lib/python3.7/dist-packages/ipykernel_launcher.py:1: FutureWarning: In a future version of pandas all arguments of DataFrame.drop except for the argument 'labels' will be keyword-only\n",
            "  \"\"\"Entry point for launching an IPython kernel.\n",
            "/usr/local/lib/python3.7/dist-packages/ipykernel_launcher.py:3: FutureWarning: In a future version of pandas all arguments of DataFrame.drop except for the argument 'labels' will be keyword-only\n",
            "  This is separate from the ipykernel package so we can avoid doing imports until\n"
          ]
        }
      ]
    },
    {
      "cell_type": "code",
      "metadata": {
        "id": "X4qxqNuSifK-",
        "colab": {
          "base_uri": "https://localhost:8080/"
        },
        "outputId": "d70eb6f8-8948-4270-da4f-a0178c7a1a1f"
      },
      "source": [
        "eta_features"
      ],
      "execution_count": null,
      "outputs": [
        {
          "output_type": "execute_result",
          "data": {
            "text/plain": [
              "['api_eta', 'month', 'hour', 'distance']"
            ]
          },
          "metadata": {},
          "execution_count": 17
        }
      ]
    },
    {
      "cell_type": "code",
      "metadata": {
        "id": "kHFZq7yszWj6"
      },
      "source": [
        "from sklearn.metrics import mean_squared_error\n",
        "from sklearn.metrics import mean_absolute_error\n",
        "from sklearn import ensemble"
      ],
      "execution_count": null,
      "outputs": []
    },
    {
      "cell_type": "markdown",
      "source": [
        "#### category feature 추가된 데이터셋 생성"
      ],
      "metadata": {
        "id": "mTN-vpwv2bx1"
      }
    },
    {
      "cell_type": "code",
      "source": [
        "# Ordianl Encoding 적용\n",
        "import sklearn\n",
        "\n",
        "tada_eta_ordinal = pd.read_excel('/content/drive/MyDrive/Colab Notebooks/data/tada_eta.xlsx')\n",
        "\n",
        "enc = sklearn.preprocessing.OrdinalEncoder(dtype=np.int32)\n",
        "ordinal = enc.fit_transform(np.asarray(tada_eta_ordinal['pickup_gu']).reshape(-1,1))\n",
        "tada_eta_ordinal['pickup_gu'] = ordinal[:,0]\n",
        "tada_eta_ordinal['distance'] = ((tada_eta_ordinal['pickup_lat']-tada_eta_ordinal['driver_lat'])**2 + (tada_eta_ordinal['pickup_lng']-tada_eta_ordinal['driver_lng'])**2)*100000\n",
        "tada_eta_ordinal = tada_eta_ordinal.drop(['id', 'created_at_kst', 'driver_id', 'pickup_lng', 'pickup_lat', 'driver_lng','driver_lat'],1)"
      ],
      "metadata": {
        "colab": {
          "base_uri": "https://localhost:8080/"
        },
        "id": "x3kl1_mrJ6Vr",
        "outputId": "3153e223-33f4-434b-941a-4c9c17a51624"
      },
      "execution_count": null,
      "outputs": [
        {
          "output_type": "stream",
          "name": "stderr",
          "text": [
            "/usr/local/lib/python3.7/dist-packages/ipykernel_launcher.py:10: FutureWarning: In a future version of pandas all arguments of DataFrame.drop except for the argument 'labels' will be keyword-only\n",
            "  # Remove the CWD from sys.path while we load stuff.\n"
          ]
        }
      ]
    },
    {
      "cell_type": "code",
      "source": [
        "tada_eta_ordinal.head()"
      ],
      "metadata": {
        "colab": {
          "base_uri": "https://localhost:8080/"
        },
        "id": "NJ3SsVOOdu_F",
        "outputId": "7f85ca82-ad1b-4aa3-84eb-1354ebab834b"
      },
      "execution_count": null,
      "outputs": [
        {
          "output_type": "execute_result",
          "data": {
            "text/plain": [
              "     ATA  api_eta  month  pickup_gu  hour    distance\n",
              "0  10.60     5.65     12          8     0   52.400202\n",
              "1   9.20     8.60     12          2     0   44.465889\n",
              "2  10.85    10.53     12          7     0  149.731535\n",
              "3   5.52     1.92      7         23     0    1.000535\n",
              "4   8.60     7.10      7         23     0   35.014797"
            ],
            "text/html": [
              "\n",
              "  <div id=\"df-0ffaaedf-2ddb-4854-8e49-b645269369ce\">\n",
              "    <div class=\"colab-df-container\">\n",
              "      <div>\n",
              "<style scoped>\n",
              "    .dataframe tbody tr th:only-of-type {\n",
              "        vertical-align: middle;\n",
              "    }\n",
              "\n",
              "    .dataframe tbody tr th {\n",
              "        vertical-align: top;\n",
              "    }\n",
              "\n",
              "    .dataframe thead th {\n",
              "        text-align: right;\n",
              "    }\n",
              "</style>\n",
              "<table border=\"1\" class=\"dataframe\">\n",
              "  <thead>\n",
              "    <tr style=\"text-align: right;\">\n",
              "      <th></th>\n",
              "      <th>ATA</th>\n",
              "      <th>api_eta</th>\n",
              "      <th>month</th>\n",
              "      <th>pickup_gu</th>\n",
              "      <th>hour</th>\n",
              "      <th>distance</th>\n",
              "    </tr>\n",
              "  </thead>\n",
              "  <tbody>\n",
              "    <tr>\n",
              "      <th>0</th>\n",
              "      <td>10.60</td>\n",
              "      <td>5.65</td>\n",
              "      <td>12</td>\n",
              "      <td>8</td>\n",
              "      <td>0</td>\n",
              "      <td>52.400202</td>\n",
              "    </tr>\n",
              "    <tr>\n",
              "      <th>1</th>\n",
              "      <td>9.20</td>\n",
              "      <td>8.60</td>\n",
              "      <td>12</td>\n",
              "      <td>2</td>\n",
              "      <td>0</td>\n",
              "      <td>44.465889</td>\n",
              "    </tr>\n",
              "    <tr>\n",
              "      <th>2</th>\n",
              "      <td>10.85</td>\n",
              "      <td>10.53</td>\n",
              "      <td>12</td>\n",
              "      <td>7</td>\n",
              "      <td>0</td>\n",
              "      <td>149.731535</td>\n",
              "    </tr>\n",
              "    <tr>\n",
              "      <th>3</th>\n",
              "      <td>5.52</td>\n",
              "      <td>1.92</td>\n",
              "      <td>7</td>\n",
              "      <td>23</td>\n",
              "      <td>0</td>\n",
              "      <td>1.000535</td>\n",
              "    </tr>\n",
              "    <tr>\n",
              "      <th>4</th>\n",
              "      <td>8.60</td>\n",
              "      <td>7.10</td>\n",
              "      <td>7</td>\n",
              "      <td>23</td>\n",
              "      <td>0</td>\n",
              "      <td>35.014797</td>\n",
              "    </tr>\n",
              "  </tbody>\n",
              "</table>\n",
              "</div>\n",
              "      <button class=\"colab-df-convert\" onclick=\"convertToInteractive('df-0ffaaedf-2ddb-4854-8e49-b645269369ce')\"\n",
              "              title=\"Convert this dataframe to an interactive table.\"\n",
              "              style=\"display:none;\">\n",
              "        \n",
              "  <svg xmlns=\"http://www.w3.org/2000/svg\" height=\"24px\"viewBox=\"0 0 24 24\"\n",
              "       width=\"24px\">\n",
              "    <path d=\"M0 0h24v24H0V0z\" fill=\"none\"/>\n",
              "    <path d=\"M18.56 5.44l.94 2.06.94-2.06 2.06-.94-2.06-.94-.94-2.06-.94 2.06-2.06.94zm-11 1L8.5 8.5l.94-2.06 2.06-.94-2.06-.94L8.5 2.5l-.94 2.06-2.06.94zm10 10l.94 2.06.94-2.06 2.06-.94-2.06-.94-.94-2.06-.94 2.06-2.06.94z\"/><path d=\"M17.41 7.96l-1.37-1.37c-.4-.4-.92-.59-1.43-.59-.52 0-1.04.2-1.43.59L10.3 9.45l-7.72 7.72c-.78.78-.78 2.05 0 2.83L4 21.41c.39.39.9.59 1.41.59.51 0 1.02-.2 1.41-.59l7.78-7.78 2.81-2.81c.8-.78.8-2.07 0-2.86zM5.41 20L4 18.59l7.72-7.72 1.47 1.35L5.41 20z\"/>\n",
              "  </svg>\n",
              "      </button>\n",
              "      \n",
              "  <style>\n",
              "    .colab-df-container {\n",
              "      display:flex;\n",
              "      flex-wrap:wrap;\n",
              "      gap: 12px;\n",
              "    }\n",
              "\n",
              "    .colab-df-convert {\n",
              "      background-color: #E8F0FE;\n",
              "      border: none;\n",
              "      border-radius: 50%;\n",
              "      cursor: pointer;\n",
              "      display: none;\n",
              "      fill: #1967D2;\n",
              "      height: 32px;\n",
              "      padding: 0 0 0 0;\n",
              "      width: 32px;\n",
              "    }\n",
              "\n",
              "    .colab-df-convert:hover {\n",
              "      background-color: #E2EBFA;\n",
              "      box-shadow: 0px 1px 2px rgba(60, 64, 67, 0.3), 0px 1px 3px 1px rgba(60, 64, 67, 0.15);\n",
              "      fill: #174EA6;\n",
              "    }\n",
              "\n",
              "    [theme=dark] .colab-df-convert {\n",
              "      background-color: #3B4455;\n",
              "      fill: #D2E3FC;\n",
              "    }\n",
              "\n",
              "    [theme=dark] .colab-df-convert:hover {\n",
              "      background-color: #434B5C;\n",
              "      box-shadow: 0px 1px 3px 1px rgba(0, 0, 0, 0.15);\n",
              "      filter: drop-shadow(0px 1px 2px rgba(0, 0, 0, 0.3));\n",
              "      fill: #FFFFFF;\n",
              "    }\n",
              "  </style>\n",
              "\n",
              "      <script>\n",
              "        const buttonEl =\n",
              "          document.querySelector('#df-0ffaaedf-2ddb-4854-8e49-b645269369ce button.colab-df-convert');\n",
              "        buttonEl.style.display =\n",
              "          google.colab.kernel.accessAllowed ? 'block' : 'none';\n",
              "\n",
              "        async function convertToInteractive(key) {\n",
              "          const element = document.querySelector('#df-0ffaaedf-2ddb-4854-8e49-b645269369ce');\n",
              "          const dataTable =\n",
              "            await google.colab.kernel.invokeFunction('convertToInteractive',\n",
              "                                                     [key], {});\n",
              "          if (!dataTable) return;\n",
              "\n",
              "          const docLinkHtml = 'Like what you see? Visit the ' +\n",
              "            '<a target=\"_blank\" href=https://colab.research.google.com/notebooks/data_table.ipynb>data table notebook</a>'\n",
              "            + ' to learn more about interactive tables.';\n",
              "          element.innerHTML = '';\n",
              "          dataTable['output_type'] = 'display_data';\n",
              "          await google.colab.output.renderOutput(dataTable, element);\n",
              "          const docLink = document.createElement('div');\n",
              "          docLink.innerHTML = docLinkHtml;\n",
              "          element.appendChild(docLink);\n",
              "        }\n",
              "      </script>\n",
              "    </div>\n",
              "  </div>\n",
              "  "
            ]
          },
          "metadata": {},
          "execution_count": 192
        }
      ]
    },
    {
      "cell_type": "code",
      "source": [
        "tada_eta_ordinal = tada_eta_ordinal.sample(frac=1, random_state=0).reset_index(drop=True)"
      ],
      "metadata": {
        "id": "4xmJwrDsdpke"
      },
      "execution_count": null,
      "outputs": []
    },
    {
      "cell_type": "code",
      "source": [
        "train_ordinal = tada_eta_ordinal[:12000]\n",
        "test_ordinal = tada_eta_ordinal[12000:]"
      ],
      "metadata": {
        "id": "XJKX3UmpYb2Y"
      },
      "execution_count": null,
      "outputs": []
    },
    {
      "cell_type": "code",
      "source": [
        "X_train = np.asarray(train_ordinal.drop('ATA',1))\n",
        "Y_train = np.asarray(train_ordinal['ATA'])\n",
        "X_test = np.asarray(test_ordinal.drop('ATA',1))\n",
        "Y_test = np.asarray(test_ordinal['ATA'])\n",
        "eta_ordinal_features = [x for i,x in enumerate(tada_eta_ordinal.columns) if i!=0]"
      ],
      "metadata": {
        "colab": {
          "base_uri": "https://localhost:8080/"
        },
        "id": "9wXvWMIyYVPB",
        "outputId": "7a757ddf-7c5b-4a07-f4d3-af339bf630ea"
      },
      "execution_count": null,
      "outputs": [
        {
          "output_type": "stream",
          "name": "stderr",
          "text": [
            "/usr/local/lib/python3.7/dist-packages/ipykernel_launcher.py:1: FutureWarning: In a future version of pandas all arguments of DataFrame.drop except for the argument 'labels' will be keyword-only\n",
            "  \"\"\"Entry point for launching an IPython kernel.\n",
            "/usr/local/lib/python3.7/dist-packages/ipykernel_launcher.py:3: FutureWarning: In a future version of pandas all arguments of DataFrame.drop except for the argument 'labels' will be keyword-only\n",
            "  This is separate from the ipykernel package so we can avoid doing imports until\n"
          ]
        }
      ]
    },
    {
      "cell_type": "markdown",
      "source": [
        "#### category feature + drop 없는 데이터셋 생성"
      ],
      "metadata": {
        "id": "JcA9wK6t2zeC"
      }
    },
    {
      "cell_type": "code",
      "source": [
        "# Ordianl Encoding 적용\n",
        "import sklearn\n",
        "\n",
        "tada_eta_raw_ordinal = pd.read_excel('/content/drive/MyDrive/Colab Notebooks/data/tada_eta.xlsx')\n",
        "\n",
        "enc = sklearn.preprocessing.OrdinalEncoder(dtype=np.int32)\n",
        "ordinal = enc.fit_transform(np.asarray(tada_eta_raw_ordinal['pickup_gu']).reshape(-1,1))\n",
        "tada_eta_raw_ordinal['pickup_gu'] = ordinal[:,0]\n",
        "tada_eta_raw_ordinal['distance'] = ((tada_eta_raw_ordinal['pickup_lat']-tada_eta_raw_ordinal['driver_lat'])**2 + (tada_eta_raw_ordinal['pickup_lng']-tada_eta_raw_ordinal['driver_lng'])**2)*100000\n",
        "tada_eta_raw_ordinal = tada_eta_raw_ordinal.drop(['id','driver_id', 'created_at_kst'],1)\n",
        "\n",
        "tada_eta_raw_ordinal = tada_eta_raw_ordinal.sample(frac=1, random_state=0).reset_index(drop=True)"
      ],
      "metadata": {
        "colab": {
          "base_uri": "https://localhost:8080/"
        },
        "id": "ykrTbk172OA7",
        "outputId": "0c52263c-e8b9-4ef1-cefb-07d3c53a49ea"
      },
      "execution_count": null,
      "outputs": [
        {
          "output_type": "stream",
          "name": "stderr",
          "text": [
            "/usr/local/lib/python3.7/dist-packages/ipykernel_launcher.py:10: FutureWarning: In a future version of pandas all arguments of DataFrame.drop except for the argument 'labels' will be keyword-only\n",
            "  # Remove the CWD from sys.path while we load stuff.\n"
          ]
        }
      ]
    },
    {
      "cell_type": "code",
      "source": [
        "train_raw_ordinal = tada_eta_raw_ordinal[:12000]\n",
        "test_raw_ordinal = tada_eta_raw_ordinal[12000:]"
      ],
      "metadata": {
        "id": "8FCcZIZS2Uky"
      },
      "execution_count": null,
      "outputs": []
    },
    {
      "cell_type": "code",
      "source": [
        "X_train = np.asarray(train_raw_ordinal.drop('ATA',1))\n",
        "Y_train = np.asarray(train_raw_ordinal['ATA'])\n",
        "X_test = np.asarray(test_raw_ordinal.drop('ATA',1))\n",
        "Y_test = np.asarray(test_raw_ordinal['ATA'])\n",
        "eta_ordinal_features = [x for i,x in enumerate(tada_eta_raw_ordinal.columns) if i!=0]"
      ],
      "metadata": {
        "colab": {
          "base_uri": "https://localhost:8080/"
        },
        "id": "2gLxGO-n2WrU",
        "outputId": "14b9bf85-8cf3-4ea5-f6b7-278224051c97"
      },
      "execution_count": null,
      "outputs": [
        {
          "output_type": "stream",
          "name": "stderr",
          "text": [
            "/usr/local/lib/python3.7/dist-packages/ipykernel_launcher.py:1: FutureWarning: In a future version of pandas all arguments of DataFrame.drop except for the argument 'labels' will be keyword-only\n",
            "  \"\"\"Entry point for launching an IPython kernel.\n",
            "/usr/local/lib/python3.7/dist-packages/ipykernel_launcher.py:3: FutureWarning: In a future version of pandas all arguments of DataFrame.drop except for the argument 'labels' will be keyword-only\n",
            "  This is separate from the ipykernel package so we can avoid doing imports until\n"
          ]
        }
      ]
    },
    {
      "cell_type": "code",
      "source": [
        "from sklearn.model_selection import GridSearchCV\n",
        "from sklearn.model_selection import PredefinedSplit\n",
        "\n",
        "# train set과 test set의 input과 output를 각각 이어 붙여서 X,y를 정의\n",
        "X = np.concatenate((X_train,X_test), axis=0)\n",
        "Y = np.concatenate((Y_train,Y_test), axis=0)\n",
        "\n",
        "# 전체 데이터 X에서 training data에 해당하는 index는 -1, test data에 해당하는 index는 0이 되도록,\n",
        "# 여기서는 [-1, -1, ... , -1, 0, 0, ... , 0] 같은 형태의 1차원 배열 test fold와 predefined split을 정의\n",
        "pds = PredefinedSplit(test_fold=[-1]*len(X_train)+[0]*len(X_test))\n",
        "\n",
        "# Parameters\n",
        "# loss='squared_error', quantile=None, learning_rate=0.1, max_iter=100,\n",
        "# max_leaf_nodes=31, max_depth=None, min_samples_leaf=20, l2_regularization=0.0,\n",
        "# max_bins=255, categorical_features=None, monotonic_cst=None, warm_start=False,\n",
        "# early_stopping='auto', scoring='loss', validation_fraction=0.1,\n",
        "# n_iter_no_change=10, tol=1e-07, verbose=0, random_state=None\n",
        "\n",
        "param_grid = {'loss': ['squared_error'],\n",
        "              'learning_rate': [0.1, 0.07, 0.05, 0.03, 0.01],\n",
        "              'max_iter': [100, 200, 300],\n",
        "              'max_leaf_nodes': [2, 5, 10, 20, 30, 50], # 2보다 작으면 안됨\n",
        "              'max_depth': [2, 5, 10, 15],\n",
        "#              'categorical_features': [3],\n",
        "              }\n",
        "# grid search 모델 정의, 학습 및 model selection\n",
        "grid_search = GridSearchCV(estimator=ensemble.HistGradientBoostingRegressor(), \n",
        "                           param_grid=param_grid, \n",
        "                           cv=pds, n_jobs=-1, scoring='neg_mean_squared_error', verbose=2)\n",
        "grid_search.fit(X, Y)\n",
        "print(grid_search.best_params_)\n",
        "\n",
        "# 분석 결과\n",
        "# Fitting 1 folds for each of 360 candidates, totalling 360 fits\n",
        "# {'learning_rate': 0.05, 'loss': 'squared_error', 'max_depth': 15, 'max_iter': 100, 'max_leaf_nodes': 30}"
      ],
      "metadata": {
        "colab": {
          "base_uri": "https://localhost:8080/"
        },
        "id": "LMikHIfX2ue9",
        "outputId": "647e86d2-3eb2-4e6d-e3e2-c03036e1f953"
      },
      "execution_count": null,
      "outputs": [
        {
          "output_type": "stream",
          "name": "stdout",
          "text": [
            "Fitting 1 folds for each of 360 candidates, totalling 360 fits\n",
            "{'learning_rate': 0.05, 'loss': 'squared_error', 'max_depth': 15, 'max_iter': 100, 'max_leaf_nodes': 30}\n"
          ]
        }
      ]
    },
    {
      "cell_type": "code",
      "source": [
        "reg = ensemble.HistGradientBoostingRegressor(\n",
        "    loss='squared_error',\n",
        "    learning_rate=0.05,\n",
        "    max_iter=100,\n",
        "    max_leaf_nodes=30,\n",
        "    max_depth=15,\n",
        "    verbose=0\n",
        ")\n",
        "\n",
        "reg.fit(X_train, Y_train)\n",
        "\n",
        "mse = mean_squared_error(Y_test, reg.predict(X_test))\n",
        "print(\"The mean squared error (MSE) on test set: {:.4f}\".format(mse))\n",
        "print(\"The initial error of API ETA on test set: {:.4f}\".format(mean_squared_error(Y_test, X_test[:,0]) ))\n",
        "\n",
        "mae = mean_absolute_error(Y_test, reg.predict(X_test))\n",
        "print(\"The mean absolute error (MAE) on test set: {:.4f}\".format(mae))\n",
        "print(\"The initial error of API ETA on test set: {:.4f}\".format(mean_absolute_error(Y_test, X_test[:,0]) ))"
      ],
      "metadata": {
        "colab": {
          "base_uri": "https://localhost:8080/"
        },
        "id": "ELHkePjt4Y_4",
        "outputId": "bf636989-6cb5-44c0-d69d-af1facb1acea"
      },
      "execution_count": null,
      "outputs": [
        {
          "output_type": "stream",
          "name": "stdout",
          "text": [
            "The mean squared error (MSE) on test set: 8.2815\n",
            "The initial error of API ETA on test set: 13.7135\n",
            "The mean absolute error (MAE) on test set: 2.0718\n",
            "The initial error of API ETA on test set: 2.7047\n"
          ]
        }
      ]
    },
    {
      "cell_type": "markdown",
      "source": [
        "#### 서울시 차량 데이터 추가한 데이터셋 생성"
      ],
      "metadata": {
        "id": "R2D-4d0b7nJQ"
      }
    },
    {
      "cell_type": "code",
      "source": [
        "# car_vel : 서울시 자치구별 차량 통행속도 2021년도 평균값\n",
        "# car_num : 서울시 자치구별 등록된 차량수 통계 (2022.03 기준)"
      ],
      "metadata": {
        "id": "ePq5B5n95WqK"
      },
      "execution_count": null,
      "outputs": []
    },
    {
      "cell_type": "code",
      "source": [
        "import sklearn\n",
        "\n",
        "tada_eta_add = pd.read_excel('/content/drive/MyDrive/Colab Notebooks/data/tada_eta_added.xlsx')\n",
        "\n",
        "enc = sklearn.preprocessing.OrdinalEncoder(dtype=np.int32)\n",
        "ordinal = enc.fit_transform(np.asarray(tada_eta_add['pickup_gu']).reshape(-1,1))\n",
        "tada_eta_add['pickup_gu'] = ordinal[:,0]\n",
        "tada_eta_add['distance'] = ((tada_eta_add['pickup_lat']-tada_eta_add['driver_lat'])**2 + (tada_eta_add['pickup_lng']-tada_eta_add['driver_lng'])**2)*100000\n"
      ],
      "metadata": {
        "id": "5LlyrT8rDqLE"
      },
      "execution_count": null,
      "outputs": []
    },
    {
      "cell_type": "code",
      "source": [
        "tada_eta_add = tada_eta_add.drop(['num', 'id', 'created_at_kst', 'driver_id', 'pickup_lng', 'pickup_lat', 'driver_lng','driver_lat'],1)\n",
        "tada_eta_add = tada_eta_add.sample(frac=1, random_state=0).reset_index(drop=True)"
      ],
      "metadata": {
        "colab": {
          "base_uri": "https://localhost:8080/"
        },
        "id": "LnSQCKL-6zPQ",
        "outputId": "f3ddc46a-740a-4ecf-c448-b90eac9f3e1f"
      },
      "execution_count": null,
      "outputs": [
        {
          "output_type": "stream",
          "name": "stderr",
          "text": [
            "/usr/local/lib/python3.7/dist-packages/ipykernel_launcher.py:1: FutureWarning: In a future version of pandas all arguments of DataFrame.drop except for the argument 'labels' will be keyword-only\n",
            "  \"\"\"Entry point for launching an IPython kernel.\n"
          ]
        }
      ]
    },
    {
      "cell_type": "code",
      "source": [
        "print(tada_eta_add)"
      ],
      "metadata": {
        "colab": {
          "base_uri": "https://localhost:8080/"
        },
        "id": "IWl9bgYm-T2d",
        "outputId": "1e08a1a3-6fec-41a4-8ab6-aa052737e281"
      },
      "execution_count": null,
      "outputs": [
        {
          "output_type": "stream",
          "name": "stdout",
          "text": [
            "         ATA  api_eta  month  pickup_gu  hour  car_vel  car_num   distance\n",
            "0       6.13     8.32     12         12    22     23.7   121250  44.521977\n",
            "1       5.37     3.05     12         17    11     22.9   248750   3.989066\n",
            "2       6.27     5.00      7         22    19     22.6    50832   4.814699\n",
            "3      10.52     8.47     12         20    21     26.1    79420  77.341173\n",
            "4      12.45     6.65      7          0    12     23.7   240480  14.888851\n",
            "...      ...      ...    ...        ...   ...      ...      ...        ...\n",
            "13911   4.62     5.72     12          0    23     23.7   240480  18.709908\n",
            "13912   5.33     2.80     12         14     8     24.9   176639   0.670255\n",
            "13913   7.82     6.85     12         19    18     22.9   145946  65.936939\n",
            "13914   3.72     1.42      7          0    20     23.7   240480   0.554555\n",
            "13915   7.48     4.38     12         14     7     24.9   176639   3.751006\n",
            "\n",
            "[13916 rows x 8 columns]\n"
          ]
        }
      ]
    },
    {
      "cell_type": "code",
      "source": [
        "train_add = tada_eta_add[:12000]\n",
        "test_add = tada_eta_add[12000:]\n",
        "\n",
        "X_train = np.asarray(train_add.drop('ATA',1))\n",
        "Y_train = np.asarray(train_add['ATA'])\n",
        "X_test = np.asarray(test_add.drop('ATA',1))\n",
        "Y_test = np.asarray(test_add['ATA'])\n",
        "eta_add_features = [x for i,x in enumerate(tada_eta_add.columns) if i!=0]"
      ],
      "metadata": {
        "id": "0aeQAn_N-icA"
      },
      "execution_count": null,
      "outputs": []
    },
    {
      "cell_type": "code",
      "source": [
        "print(eta_add_features)"
      ],
      "metadata": {
        "colab": {
          "base_uri": "https://localhost:8080/"
        },
        "id": "VVyhpj4j-xDG",
        "outputId": "d90b0b4f-0538-4089-9df5-449d2b8ba4a5"
      },
      "execution_count": null,
      "outputs": [
        {
          "output_type": "stream",
          "name": "stdout",
          "text": [
            "['api_eta', 'month', 'pickup_gu', 'hour', 'car_vel', 'car_num', 'distance']\n"
          ]
        }
      ]
    },
    {
      "cell_type": "markdown",
      "source": [
        "## Best & Last Trial - XGBoost 모델 사용\n",
        "\n",
        "- Gradient Boosting, Random Forest Boosting, Hist Gradient Boosting 중 Hist Gradient 모델 성능이 가장 좋았음.\n",
        "- GridSearchCV와 PredefinedSplit을 함께 Hist Gradient Boosting과 함께 사용했을 때, 가장 성능이 좋았으나, 목표하는 오차범위 도달 X.\n",
        "- 서울시 공공 데이터를 활용해 feature를 추가했으나, 오차가 유의미하게 줄어들지 않음.\n",
        "- 다양한 하이퍼 파라미터 최적화 기법을 시도했으나, 오히려 오차가 더 커지기도 하는 등 유효한 결과를 거두지 못함. (사용에 있어서 아직 부족한 부분이 많음)\n",
        "\n",
        "이에, **신규 트리 모델 XGBoost를 도입해보기로 했고, 성능이 가장 우수했음.**\n",
        "\n",
        "- 마지막 결론까지 시도했던 내용은 해당 XGBoost 모델 코드 하단에 추가해 두었습니다.\n",
        "\n",
        "\n",
        "\n",
        "**XGBoost 실행결과**\n",
        "1. 일반 데이터셋 사용 시 : distance 값만 포함\n",
        "*   MSE on test set: 7.6853\n",
        "*   API ETAon test set: 13.7135\n",
        "*   MAE on test set: 2.0281\n",
        "*   API ETA on test set: 2.7047\n",
        "\n",
        "2. **[BEST RESULT]** 보강된 데이터셋 사용 시 : 서울시 공공데이터 추가 활용 (tada_data_added.xlsx 파일 추가 생성)\n",
        "*   MSE on test set: 7.1371\n",
        "*   API ETAon test set: 13.7135\n",
        "*   MAE on test set: 1.9611\n",
        "*   API ETA on test set: 2.7047"
      ],
      "metadata": {
        "id": "XhzgoAFKfjXo"
      }
    },
    {
      "cell_type": "code",
      "source": [
        "import xgboost as xgb\n",
        "from sklearn.metrics import mean_squared_error\n",
        "import pandas as pd\n",
        "import numpy as np"
      ],
      "metadata": {
        "id": "9nP-3O8tZtce"
      },
      "execution_count": null,
      "outputs": []
    },
    {
      "cell_type": "code",
      "source": [
        "xg_reg = xgb.XGBRegressor(objective ='reg:linear', colsample_bytree = 0.3, \n",
        "                          learning_rate = 0.5, max_depth = 10, alpha = 10, n_estimators = 10)\n",
        "\n",
        "xg_reg.fit(X,Y)"
      ],
      "metadata": {
        "colab": {
          "base_uri": "https://localhost:8080/"
        },
        "id": "Ash12O5laCqp",
        "outputId": "6c3d36e7-1ccb-4537-a5df-ea122c7eed53"
      },
      "execution_count": null,
      "outputs": [
        {
          "output_type": "stream",
          "name": "stdout",
          "text": [
            "[10:57:22] WARNING: /workspace/src/objective/regression_obj.cu:152: reg:linear is now deprecated in favor of reg:squarederror.\n"
          ]
        },
        {
          "output_type": "execute_result",
          "data": {
            "text/plain": [
              "XGBRegressor(alpha=10, colsample_bytree=0.3, learning_rate=0.5, max_depth=10,\n",
              "             n_estimators=10)"
            ]
          },
          "metadata": {},
          "execution_count": 243
        }
      ]
    },
    {
      "cell_type": "code",
      "source": [
        "mse = mean_squared_error(Y_test, xg_reg.predict(X_test))\n",
        "print(\"The mean squared error (MSE) on test set: {:.4f}\".format(mse))\n",
        "print(\"The initial error of API ETA on test set: {:.4f}\".format(mean_squared_error(Y_test, X_test[:,0]) ))\n",
        "\n",
        "mae = mean_absolute_error(Y_test, xg_reg.predict(X_test))\n",
        "print(\"The mean absolute error (MAE) on test set: {:.4f}\".format(mae))\n",
        "print(\"The initial error of API ETA on test set: {:.4f}\".format(mean_absolute_error(Y_test, X_test[:,0]) ))"
      ],
      "metadata": {
        "colab": {
          "base_uri": "https://localhost:8080/"
        },
        "id": "0I6_wkmDaYuy",
        "outputId": "57fb86be-7777-4ef6-8ba1-358a21a8f1f4"
      },
      "execution_count": null,
      "outputs": [
        {
          "output_type": "stream",
          "name": "stdout",
          "text": [
            "The mean squared error (MSE) on test set: 7.1371\n",
            "The initial error of API ETA on test set: 13.7135\n",
            "The mean absolute error (MAE) on test set: 1.9611\n",
            "The initial error of API ETA on test set: 2.7047\n"
          ]
        }
      ]
    },
    {
      "cell_type": "code",
      "source": [
        "xg_reg = xgb.XGBRegressor(objective ='reg:linear', colsample_bytree = 0.3, \n",
        "                          learning_rate = 0.5, max_depth = 10, alpha = 10, n_estimators = 10)\n",
        "\n",
        "xg_reg.fit(X,Y)"
      ],
      "metadata": {
        "colab": {
          "base_uri": "https://localhost:8080/"
        },
        "id": "nELZ0iRbyICM",
        "outputId": "67d9f365-5b6e-4bfe-8394-b1e471fef509"
      },
      "execution_count": null,
      "outputs": [
        {
          "output_type": "stream",
          "name": "stdout",
          "text": [
            "[12:40:44] WARNING: /workspace/src/objective/regression_obj.cu:152: reg:linear is now deprecated in favor of reg:squarederror.\n"
          ]
        },
        {
          "output_type": "execute_result",
          "data": {
            "text/plain": [
              "XGBRegressor(alpha=10, colsample_bytree=0.3, learning_rate=0.5, max_depth=10,\n",
              "             n_estimators=10)"
            ]
          },
          "metadata": {},
          "execution_count": 261
        }
      ]
    },
    {
      "cell_type": "code",
      "source": [
        "mse = mean_squared_error(y_test, xg_reg.predict(x_test))\n",
        "print(\"The mean squared error (MSE) on test set: {:.4f}\".format(mse))\n",
        "print(\"The initial error of API ETA on test set: {:.4f}\".format(mean_squared_error(y_test, x_test[:,0]) ))\n",
        "\n",
        "mae = mean_absolute_error(y_test, xg_reg.predict(x_test))\n",
        "print(\"The mean absolute error (MAE) on test set: {:.4f}\".format(mae))\n",
        "print(\"The initial error of API ETA on test set: {:.4f}\".format(mean_absolute_error(y_test, x_test[:,0]) ))"
      ],
      "metadata": {
        "colab": {
          "base_uri": "https://localhost:8080/"
        },
        "id": "t84m1_PnyN2U",
        "outputId": "c57408fc-bb28-457f-8749-8ea801f74015"
      },
      "execution_count": null,
      "outputs": [
        {
          "output_type": "stream",
          "name": "stdout",
          "text": [
            "The mean squared error (MSE) on test set: 7.6853\n",
            "The initial error of API ETA on test set: 13.7135\n",
            "The mean absolute error (MAE) on test set: 2.0281\n",
            "The initial error of API ETA on test set: 2.7047\n"
          ]
        }
      ]
    },
    {
      "cell_type": "code",
      "source": [
        "from xgboost import plot_importance\n",
        "\n",
        "fig, ax = plt.subplots(figsize=(9,11))\n",
        "plot_importance(xg_reg, ax)"
      ],
      "metadata": {
        "colab": {
          "base_uri": "https://localhost:8080/",
          "height": 694
        },
        "id": "xrOp7VLWmZhP",
        "outputId": "b462405d-1119-4c4d-850d-7fed0df28613"
      },
      "execution_count": null,
      "outputs": [
        {
          "output_type": "execute_result",
          "data": {
            "text/plain": [
              "<matplotlib.axes._subplots.AxesSubplot at 0x7ffa26a3aa50>"
            ]
          },
          "metadata": {},
          "execution_count": 260
        },
        {
          "output_type": "display_data",
          "data": {
            "text/plain": [
              "<Figure size 648x792 with 1 Axes>"
            ],
            "image/png": "[encoded data removed]"
          },
          "metadata": {
            "needs_background": "light"
          }
        }
      ]
    },
    {
      "cell_type": "markdown",
      "source": [
        "## MODELING TRIALS"
      ],
      "metadata": {
        "id": "gfygaqNk0FGa"
      }
    },
    {
      "cell_type": "markdown",
      "metadata": {
        "id": "ZLoU-MLa5NcH"
      },
      "source": [
        "#### 실습코드: Gradient Boosting 사용\n",
        "*   MSE on test set: 8.4021\n",
        "*   API ETAon test set: 13.7135\n",
        "*   MAE on test set: 2.0853\n",
        "*   API ETA on test set: 2.7047"
      ]
    },
    {
      "cell_type": "code",
      "metadata": {
        "id": "VrkliW0yzeii",
        "colab": {
          "base_uri": "https://localhost:8080/"
        },
        "outputId": "bcf58362-9ce6-4e7e-f617-b36e777cd008"
      },
      "source": [
        "reg = ensemble.GradientBoostingRegressor(\n",
        "           n_estimators=100, \n",
        "           max_depth=3, \n",
        "           min_samples_leaf=5,\n",
        "           learning_rate=0.05,\n",
        "           loss='ls')\n",
        "reg.fit(x_train, y_train)\n",
        "\n",
        "mse = mean_squared_error(y_test, reg.predict(x_test))\n",
        "print(\"The mean squared error (MSE) on test set: {:.4f}\".format(mse))\n",
        "print(\"The initial error of API ETA on test set: {:.4f}\".format(mean_squared_error(y_test, x_test[:,0]) ))\n",
        "\n",
        "mae = mean_absolute_error(y_test, reg.predict(x_test))\n",
        "print(\"The mean absolute error (MAE) on test set: {:.4f}\".format(mae))\n",
        "print(\"The initial error of API ETA on test set: {:.4f}\".format(mean_absolute_error(y_test, x_test[:,0]) ))"
      ],
      "execution_count": null,
      "outputs": [
        {
          "output_type": "stream",
          "name": "stderr",
          "text": [
            "/usr/local/lib/python3.7/dist-packages/sklearn/ensemble/_gb.py:290: FutureWarning: The loss 'ls' was deprecated in v1.0 and will be removed in version 1.2. Use 'squared_error' which is equivalent.\n",
            "  FutureWarning,\n"
          ]
        },
        {
          "output_type": "stream",
          "name": "stdout",
          "text": [
            "The mean squared error (MSE) on test set: 8.4021\n",
            "The initial error of API ETA on test set: 13.7135\n",
            "The mean absolute error (MAE) on test set: 2.0853\n",
            "The initial error of API ETA on test set: 2.7047\n"
          ]
        }
      ]
    },
    {
      "cell_type": "code",
      "metadata": {
        "id": "YJR65VlX8gmb",
        "colab": {
          "base_uri": "https://localhost:8080/",
          "height": 441
        },
        "outputId": "0c4d8aa4-99bf-49c0-9590-64fc63cf6a51"
      },
      "source": [
        "params={'n_estimators': 100}\n",
        "test_score = np.zeros((params['n_estimators'],), dtype=np.float64)\n",
        "for i, y_pred in enumerate(reg.staged_predict(x_test)):\n",
        "    test_score[i] = reg.loss_(y_test, y_pred)\n",
        "\n",
        "fig = plt.figure(figsize=(6, 6))\n",
        "plt.subplot(1, 1, 1)\n",
        "plt.title('Deviance')\n",
        "plt.plot(np.arange(params['n_estimators']) + 1, reg.train_score_, 'b-',\n",
        "         label='Training Set Deviance')\n",
        "plt.plot(np.arange(params['n_estimators']) + 1, test_score, 'r-',\n",
        "         label='Test Set Deviance')\n",
        "plt.legend(loc='upper right')\n",
        "plt.xlabel('Boosting Iterations')\n",
        "plt.ylabel('Deviance')\n",
        "fig.tight_layout()\n",
        "plt.show()"
      ],
      "execution_count": null,
      "outputs": [
        {
          "output_type": "display_data",
          "data": {
            "text/plain": [
              "<Figure size 432x432 with 1 Axes>"
            ],
            "image/png": "[encoded data removed]"
          },
          "metadata": {
            "needs_background": "light"
          }
        }
      ]
    },
    {
      "cell_type": "code",
      "metadata": {
        "id": "YZyyd7E09EI-",
        "colab": {
          "base_uri": "https://localhost:8080/",
          "height": 281
        },
        "outputId": "8d80e487-aa2a-4c57-ae8d-d58a0550b8b9"
      },
      "source": [
        "feature_importance = reg.feature_importances_\n",
        "sorted_idx = np.argsort(feature_importance)\n",
        "pos = np.arange(sorted_idx.shape[0]) + .5\n",
        "plt.figure()\n",
        "plt.barh(pos, feature_importance[sorted_idx], align='center')\n",
        "plt.yticks(pos, np.array(eta_features)[sorted_idx])\n",
        "plt.title('Feature Importance (MDI)')\n",
        "plt.show()"
      ],
      "execution_count": null,
      "outputs": [
        {
          "output_type": "display_data",
          "data": {
            "text/plain": [
              "<Figure size 432x288 with 1 Axes>"
            ],
            "image/png": "[encoded data removed]"
          },
          "metadata": {
            "needs_background": "light"
          }
        }
      ]
    },
    {
      "cell_type": "markdown",
      "metadata": {
        "id": "2vraz0X30aVE"
      },
      "source": [
        "#### Trial 1 - Gradient Boosting + GridSearchCV\n",
        "\n",
        "*   MSE on test set: 8.3613\n",
        "*   API ETAon test set: 13.7135\n",
        "*   MAE on test set: 2.0815\n",
        "*   API ETA on test set: 2.7047"
      ]
    },
    {
      "cell_type": "code",
      "source": [
        "from sklearn import ensemble\n",
        "from sklearn.metrics import mean_squared_error\n",
        "from sklearn.model_selection import GridSearchCV\n",
        "# Hyperparameter 조합 정의\n",
        "param_grid = {'n_estimators': [100, 200, 300],\n",
        "              'max_depth': [2, 3, 4, 5],\n",
        "              'min_samples_leaf': [1, 20, 100],\n",
        "              'learning_rate': [0.01, 0.02, 0.05],\n",
        "              'loss': ['ls']}\n",
        "# grid search 모델 정의, 학습 및 model selection\n",
        "grid_search = GridSearchCV(estimator=ensemble.GradientBoostingRegressor(),\n",
        "                           param_grid=param_grid,\n",
        "                           cv=3, n_jobs=-1, scoring='neg_mean_squared_error', verbose=2)\n",
        "grid_search.fit(x_train, y_train)\n",
        "print(grid_search.best_params_)\n",
        "reg = ensemble.GradientBoostingRegressor(**grid_search.best_params_)"
      ],
      "metadata": {
        "colab": {
          "base_uri": "https://localhost:8080/"
        },
        "id": "GGPWJQcY2LPP",
        "outputId": "3e4f8b5e-8be6-4e56-e0f7-9f72600d8063"
      },
      "execution_count": null,
      "outputs": [
        {
          "output_type": "stream",
          "name": "stdout",
          "text": [
            "Fitting 3 folds for each of 108 candidates, totalling 324 fits\n"
          ]
        },
        {
          "output_type": "stream",
          "name": "stderr",
          "text": [
            "/usr/local/lib/python3.7/dist-packages/sklearn/ensemble/_gb.py:290: FutureWarning: The loss 'ls' was deprecated in v1.0 and will be removed in version 1.2. Use 'squared_error' which is equivalent.\n",
            "  FutureWarning,\n"
          ]
        },
        {
          "output_type": "stream",
          "name": "stdout",
          "text": [
            "{'learning_rate': 0.05, 'loss': 'ls', 'max_depth': 2, 'min_samples_leaf': 20, 'n_estimators': 200}\n"
          ]
        }
      ]
    },
    {
      "cell_type": "code",
      "source": [
        "# GridSearchCV 결과\n",
        "# {'learning_rate': 0.05, 'loss': 'ls', 'max_depth': 2, 'min_samples_leaf': 20, 'n_estimators': 200}\n",
        "reg.fit(x_train, y_train)\n",
        "\n",
        "mse = mean_squared_error(y_test, reg.predict(x_test))\n",
        "print(\"The mean squared error (MSE) on test set: {:.4f}\".format(mse))\n",
        "print(\"The initial error of API ETA on test set: {:.4f}\".format(mean_squared_error(y_test, x_test[:,0]) ))\n",
        "\n",
        "mae = mean_absolute_error(y_test, reg.predict(x_test))\n",
        "print(\"The mean absolute error (MAE) on test set: {:.4f}\".format(mae))\n",
        "print(\"The initial error of API ETA on test set: {:.4f}\".format(mean_absolute_error(y_test, x_test[:,0]) ))"
      ],
      "metadata": {
        "colab": {
          "base_uri": "https://localhost:8080/"
        },
        "id": "ywN7GHm22pc1",
        "outputId": "95c7b17a-51eb-45c4-94d9-45f1ee3d60eb"
      },
      "execution_count": null,
      "outputs": [
        {
          "output_type": "stream",
          "name": "stderr",
          "text": [
            "/usr/local/lib/python3.7/dist-packages/sklearn/ensemble/_gb.py:290: FutureWarning: The loss 'ls' was deprecated in v1.0 and will be removed in version 1.2. Use 'squared_error' which is equivalent.\n",
            "  FutureWarning,\n"
          ]
        },
        {
          "output_type": "stream",
          "name": "stdout",
          "text": [
            "The mean squared error (MSE) on test set: 8.3613\n",
            "The initial error of API ETA on test set: 13.7135\n",
            "The mean absolute error (MAE) on test set: 2.0815\n",
            "The initial error of API ETA on test set: 2.7047\n"
          ]
        }
      ]
    },
    {
      "cell_type": "code",
      "source": [
        "reg = ensemble.GradientBoostingRegressor(\n",
        "           n_estimators=200, \n",
        "           max_depth=2, \n",
        "           min_samples_leaf=20,\n",
        "           learning_rate=0.05,\n",
        "           max_features='sqrt',\n",
        "           loss='ls',\n",
        "           random_state=0\n",
        "           )\n",
        "reg.fit(x_train, y_train)\n",
        "\n",
        "mse = mean_squared_error(y_test, reg.predict(x_test))\n",
        "print(\"The mean squared error (MSE) on test set: {:.4f}\".format(mse))\n",
        "print(\"The initial error of API ETA on test set: {:.4f}\".format(mean_squared_error(y_test, x_test[:,0]) ))\n",
        "\n",
        "mae = mean_absolute_error(y_test, reg.predict(x_test))\n",
        "print(\"The mean absolute error (MAE) on test set: {:.4f}\".format(mae))\n",
        "print(\"The initial error of API ETA on test set: {:.4f}\".format(mean_absolute_error(y_test, x_test[:,0]) ))"
      ],
      "metadata": {
        "colab": {
          "base_uri": "https://localhost:8080/"
        },
        "id": "idRI9ttU4hlU",
        "outputId": "04b58472-ea2d-4bd5-e23d-7f960956471c"
      },
      "execution_count": null,
      "outputs": [
        {
          "output_type": "stream",
          "name": "stderr",
          "text": [
            "/usr/local/lib/python3.7/dist-packages/sklearn/ensemble/_gb.py:290: FutureWarning: The loss 'ls' was deprecated in v1.0 and will be removed in version 1.2. Use 'squared_error' which is equivalent.\n",
            "  FutureWarning,\n"
          ]
        },
        {
          "output_type": "stream",
          "name": "stdout",
          "text": [
            "The mean squared error (MSE) on test set: 8.3479\n",
            "The initial error of API ETA on test set: 13.7135\n",
            "The mean absolute error (MAE) on test set: 2.0813\n",
            "The initial error of API ETA on test set: 2.7047\n"
          ]
        }
      ]
    },
    {
      "cell_type": "markdown",
      "source": [
        "#### Trial 2 - Gradient Boosting + GridSearchCV + PredefinedSplit\n",
        "\n",
        "*   MSE on test set: 8.2613\n",
        "*   API ETAon test set: 13.7135\n",
        "*   MAE on test set: 2.0720\n",
        "*   API ETA on test set: 2.7047"
      ],
      "metadata": {
        "id": "GlzkccOD6a8I"
      }
    },
    {
      "cell_type": "code",
      "source": [
        "from sklearn.model_selection import GridSearchCV\n",
        "from sklearn.model_selection import PredefinedSplit\n",
        "\n",
        "# train set과 test set의 input과 output를 각각 이어 붙여서 X,y를 정의\n",
        "X = np.concatenate((x_train,x_test), axis=0)\n",
        "y = np.concatenate((y_train,y_test), axis=0)\n",
        "\n",
        "# 전체 데이터 X에서 training data에 해당하는 index는 -1, test data에 해당하는 index는 0이 되도록,\n",
        "# 여기서는 [-1, -1, ... , -1, 0, 0, ... , 0] 같은 형태의 1차원 배열 test fold와 predefined split을 정의\n",
        "pds = PredefinedSplit(test_fold=[-1]*len(x_train)+[0]*len(x_test))\n",
        "param_grid = {'n_estimators': [100, 200, 300],\n",
        "              'max_depth': [2, 3, 4, 5],\n",
        "              'min_samples_leaf': [1, 20, 100],\n",
        "              'learning_rate': [0.01, 0.02, 0.05],\n",
        "              'loss': ['ls']}\n",
        "# grid search 모델 정의, 학습 및 model selection\n",
        "grid_search = GridSearchCV(estimator=ensemble.GradientBoostingRegressor(), \n",
        "                           param_grid=param_grid, \n",
        "                           cv=pds, n_jobs=-1, scoring='neg_mean_squared_error', verbose=2)\n",
        "grid_search.fit(X, y)\n",
        "print(grid_search.best_params_)\n",
        "\n",
        "# 분석 결과\n",
        "# {'learning_rate': 0.05, 'loss': 'ls', 'max_depth': 2, 'min_samples_leaf': 100, 'n_estimators': 300}"
      ],
      "metadata": {
        "colab": {
          "base_uri": "https://localhost:8080/"
        },
        "id": "6GmKZqEA6dGy",
        "outputId": "8312c189-d8ee-49e5-ab7f-7b018a72c656"
      },
      "execution_count": null,
      "outputs": [
        {
          "output_type": "stream",
          "name": "stdout",
          "text": [
            "Fitting 1 folds for each of 108 candidates, totalling 108 fits\n"
          ]
        },
        {
          "output_type": "stream",
          "name": "stderr",
          "text": [
            "/usr/local/lib/python3.7/dist-packages/sklearn/ensemble/_gb.py:290: FutureWarning: The loss 'ls' was deprecated in v1.0 and will be removed in version 1.2. Use 'squared_error' which is equivalent.\n",
            "  FutureWarning,\n"
          ]
        },
        {
          "output_type": "stream",
          "name": "stdout",
          "text": [
            "{'learning_rate': 0.05, 'loss': 'ls', 'max_depth': 2, 'min_samples_leaf': 100, 'n_estimators': 300}\n"
          ]
        }
      ]
    },
    {
      "cell_type": "code",
      "source": [
        "reg = ensemble.GradientBoostingRegressor(\n",
        "           n_estimators=300, \n",
        "           max_depth=2, \n",
        "           min_samples_leaf=100,\n",
        "           learning_rate=0.05,\n",
        "           max_features='sqrt',\n",
        "           loss='ls',\n",
        "           random_state=0\n",
        "           )\n",
        "reg.fit(x_train, y_train)\n",
        "\n",
        "mse = mean_squared_error(y_test, reg.predict(x_test))\n",
        "print(\"The mean squared error (MSE) on test set: {:.4f}\".format(mse))\n",
        "print(\"The initial error of API ETA on test set: {:.4f}\".format(mean_squared_error(y_test, x_test[:,0]) ))\n",
        "\n",
        "mae = mean_absolute_error(y_test, reg.predict(x_test))\n",
        "print(\"The mean absolute error (MAE) on test set: {:.4f}\".format(mae))\n",
        "print(\"The initial error of API ETA on test set: {:.4f}\".format(mean_absolute_error(y_test, x_test[:,0]) ))"
      ],
      "metadata": {
        "colab": {
          "base_uri": "https://localhost:8080/"
        },
        "id": "dQsNZMQu9lCh",
        "outputId": "bd0c6911-91c2-4033-b1b8-e6eb6e076647"
      },
      "execution_count": null,
      "outputs": [
        {
          "output_type": "stream",
          "name": "stderr",
          "text": [
            "/usr/local/lib/python3.7/dist-packages/sklearn/ensemble/_gb.py:290: FutureWarning: The loss 'ls' was deprecated in v1.0 and will be removed in version 1.2. Use 'squared_error' which is equivalent.\n",
            "  FutureWarning,\n"
          ]
        },
        {
          "output_type": "stream",
          "name": "stdout",
          "text": [
            "The mean squared error (MSE) on test set: 8.2613\n",
            "The initial error of API ETA on test set: 13.7135\n",
            "The mean absolute error (MAE) on test set: 2.0720\n",
            "The initial error of API ETA on test set: 2.7047\n"
          ]
        }
      ]
    },
    {
      "cell_type": "markdown",
      "source": [
        "#### Trial 3 - Random Forest Boosting + GridSearchCV\n",
        "*   MSE on test set: 8.2968\n",
        "*   API ETAon test set: 13.7135\n",
        "*   MAE on test set: 2.0735\n",
        "*   API ETA on test set: 2.7047"
      ],
      "metadata": {
        "id": "iDpV_FVr6E7z"
      }
    },
    {
      "cell_type": "code",
      "source": [
        "from sklearn import ensemble\n",
        "from sklearn.metrics import mean_squared_error\n",
        "from sklearn.model_selection import GridSearchCV\n",
        "# Hyperparameter 조합 정의\n",
        "# n_estimators=100, criterion='squared_error', max_depth=None, \n",
        "# min_samples_split=2, min_samples_leaf=1, min_weight_fraction_leaf=0.0,\n",
        "# max_features=1.0, max_leaf_nodes=None, min_impurity_decrease=0.0, \n",
        "# bootstrap=True, oob_score=False, n_jobs=None, random_state=None, verbose=0, \n",
        "# warm_start=False, ccp_alpha=0.0, max_samples=None\n",
        "param_grid = {'n_estimators': [100, 200, 300],\n",
        "              'min_samples_leaf': [1, 20, 100],\n",
        "              'max_depth': [2, 3, 4, 5, 10],\n",
        "              'max_features': ['sqrt', 'log2'],\n",
        "              'criterion': ['squared_error'],\n",
        "              'max_samples': [0.01, 0.02, 0.05, 0.07],\n",
        "              'random_state': [0],\n",
        "              'ccp_alpha': [0, 0.01, 0.03, 0.05]   # Complexity parameter used for Minimal Cost-Complexity Pruning\n",
        "              }\n",
        "# grid search 모델 정의, 학습 및 model selection\n",
        "grid_search = GridSearchCV(estimator=ensemble.RandomForestRegressor(),\n",
        "                           param_grid=param_grid,\n",
        "                           cv=3, n_jobs=-1, scoring='neg_mean_squared_error', verbose=2)\n",
        "grid_search.fit(x_train, y_train)\n",
        "print(grid_search.best_params_)\n",
        "reg = ensemble.RandomForestRegressor(**grid_search.best_params_)\n",
        "\n",
        "# 결과\n",
        "# Fitting 3 folds for each of 1440 candidates, totalling 4320 fits\n",
        "# {'ccp_alpha': 0.01, 'criterion': 'squared_error', 'max_depth': 10, 'max_features': 'sqrt', 'max_samples': 0.07, 'min_samples_leaf': 1, 'n_estimators': 300, 'random_state': 0}"
      ],
      "metadata": {
        "colab": {
          "base_uri": "https://localhost:8080/"
        },
        "id": "_xSi19Ou-JHX",
        "outputId": "d7d15330-9e43-4e71-bfb5-adab4af1b17e"
      },
      "execution_count": null,
      "outputs": [
        {
          "output_type": "stream",
          "name": "stdout",
          "text": [
            "Fitting 3 folds for each of 1440 candidates, totalling 4320 fits\n",
            "{'ccp_alpha': 0.01, 'criterion': 'squared_error', 'max_depth': 10, 'max_features': 'sqrt', 'max_samples': 0.07, 'min_samples_leaf': 1, 'n_estimators': 300, 'random_state': 0}\n"
          ]
        }
      ]
    },
    {
      "cell_type": "code",
      "source": [
        "# Random Forest Regressor 사용\n",
        "reg = ensemble.RandomForestRegressor(\n",
        "           n_estimators=300,  \n",
        "           min_samples_leaf=1,\n",
        "           max_depth=10,\n",
        "           max_features='sqrt',\n",
        "           criterion='squared_error',\n",
        "           random_state=0,\n",
        "           max_samples=0.07,\n",
        "           ccp_alpha=0.01)\n",
        "reg.fit(x_train, y_train)\n",
        "\n",
        "mse = mean_squared_error(y_test, reg.predict(x_test))\n",
        "print(\"The mean squared error (MSE) on test set: {:.4f}\".format(mse))\n",
        "print(\"The initial error of API ETA on test set: {:.4f}\".format(mean_squared_error(y_test, x_test[:,0]) ))\n",
        "\n",
        "mae = mean_absolute_error(y_test, reg.predict(x_test))\n",
        "print(\"The mean absolute error (MAE) on test set: {:.4f}\".format(mae))\n",
        "print(\"The initial error of API ETA on test set: {:.4f}\".format(mean_absolute_error(y_test, x_test[:,0]) ))"
      ],
      "metadata": {
        "colab": {
          "base_uri": "https://localhost:8080/"
        },
        "id": "skbgapGv5ARF",
        "outputId": "387123e9-80d6-41f3-d0df-341181fa7e38"
      },
      "execution_count": null,
      "outputs": [
        {
          "output_type": "stream",
          "name": "stderr",
          "text": [
            "/usr/local/lib/python3.7/dist-packages/sklearn/ensemble/_forest.py:400: FutureWarning: Criterion 'mse' was deprecated in v1.0 and will be removed in version 1.2. Use `criterion='squared_error'` which is equivalent.\n",
            "  FutureWarning,\n"
          ]
        },
        {
          "output_type": "stream",
          "name": "stdout",
          "text": [
            "The mean squared error (MSE) on test set: 8.2968\n",
            "The initial error of API ETA on test set: 13.7135\n",
            "The mean absolute error (MAE) on test set: 2.0735\n",
            "The initial error of API ETA on test set: 2.7047\n"
          ]
        }
      ]
    },
    {
      "cell_type": "markdown",
      "source": [
        "#### Trial 4 - Random Forest Boosting + GridSearchCV + PredefinedSplit\n",
        "*   MSE on test set: 8.2559\n",
        "*   API ETAon test set: 13.7135\n",
        "*   MAE on test set: 2.0712\n",
        "*   API ETA on test set: 2.7047"
      ],
      "metadata": {
        "id": "c5a8Vvi4Copj"
      }
    },
    {
      "cell_type": "code",
      "source": [
        "from sklearn.model_selection import GridSearchCV\n",
        "from sklearn.model_selection import PredefinedSplit\n",
        "\n",
        "# train set과 test set의 input과 output를 각각 이어 붙여서 X,y를 정의\n",
        "X = np.concatenate((x_train,x_test), axis=0)\n",
        "y = np.concatenate((y_train,y_test), axis=0)\n",
        "\n",
        "# 전체 데이터 X에서 training data에 해당하는 index는 -1, test data에 해당하는 index는 0이 되도록,\n",
        "# 여기서는 [-1, -1, ... , -1, 0, 0, ... , 0] 같은 형태의 1차원 배열 test fold와 predefined split을 정의\n",
        "pds = PredefinedSplit(test_fold=[-1]*len(x_train)+[0]*len(x_test))\n",
        "param_grid = {'n_estimators': [100, 200, 300],\n",
        "              'min_samples_leaf': [1, 10, 20],\n",
        "              'max_depth': [2, 5, 10, 15],\n",
        "              'max_features': ['sqrt'],\n",
        "              'criterion': ['squared_error'],\n",
        "              'max_samples': [0.05, 0.07, 0.09],\n",
        "              'random_state': [0],\n",
        "              'ccp_alpha': [0.01]\n",
        "              }\n",
        "# grid search 모델 정의, 학습 및 model selection\n",
        "grid_search = GridSearchCV(estimator=ensemble.RandomForestRegressor(), \n",
        "                           param_grid=param_grid, \n",
        "                           cv=pds, n_jobs=-1, scoring='neg_mean_squared_error', verbose=2)\n",
        "grid_search.fit(X, y)\n",
        "print(grid_search.best_params_)\n",
        "\n",
        "# 분석 결과\n",
        "# Fitting 1 folds for each of 108 candidates, totalling 108 fits\n",
        "# {'ccp_alpha': 0.01, 'criterion': 'squared_error', 'max_depth': 10, 'max_features': 'sqrt', 'max_samples': 0.09, 'min_samples_leaf': 10, 'n_estimators': 200, 'random_state': 0}"
      ],
      "metadata": {
        "colab": {
          "base_uri": "https://localhost:8080/"
        },
        "id": "g0jryO6-Cod4",
        "outputId": "cb7c93f0-5079-4682-8f75-dd14b2f8c1fc"
      },
      "execution_count": null,
      "outputs": [
        {
          "output_type": "stream",
          "name": "stdout",
          "text": [
            "Fitting 1 folds for each of 108 candidates, totalling 108 fits\n",
            "{'ccp_alpha': 0.01, 'criterion': 'squared_error', 'max_depth': 10, 'max_features': 'sqrt', 'max_samples': 0.09, 'min_samples_leaf': 10, 'n_estimators': 200, 'random_state': 0}\n"
          ]
        }
      ]
    },
    {
      "cell_type": "code",
      "source": [
        "reg = ensemble.RandomForestRegressor(\n",
        "           n_estimators=200,  \n",
        "           min_samples_leaf=10,\n",
        "           max_depth=10,\n",
        "           max_features='sqrt',\n",
        "           criterion='squared_error',\n",
        "           random_state=0,\n",
        "           max_samples=0.09,\n",
        "           ccp_alpha=0.01)\n",
        "\n",
        "reg.fit(x_train, y_train)\n",
        "\n",
        "mse = mean_squared_error(y_test, reg.predict(x_test))\n",
        "print(\"The mean squared error (MSE) on test set: {:.4f}\".format(mse))\n",
        "print(\"The initial error of API ETA on test set: {:.4f}\".format(mean_squared_error(y_test, x_test[:,0]) ))\n",
        "\n",
        "mae = mean_absolute_error(y_test, reg.predict(x_test))\n",
        "print(\"The mean absolute error (MAE) on test set: {:.4f}\".format(mae))\n",
        "print(\"The initial error of API ETA on test set: {:.4f}\".format(mean_absolute_error(y_test, x_test[:,0]) ))"
      ],
      "metadata": {
        "colab": {
          "base_uri": "https://localhost:8080/"
        },
        "id": "hHU2ESSXCe9G",
        "outputId": "ae35b464-7800-4a95-9889-2a910b55b101"
      },
      "execution_count": null,
      "outputs": [
        {
          "output_type": "stream",
          "name": "stdout",
          "text": [
            "The mean squared error (MSE) on test set: 8.2559\n",
            "The initial error of API ETA on test set: 13.7135\n",
            "The mean absolute error (MAE) on test set: 2.0712\n",
            "The initial error of API ETA on test set: 2.7047\n"
          ]
        }
      ]
    },
    {
      "cell_type": "markdown",
      "source": [
        "#### Trial 5 - HistGradientBoostingRegressor\n",
        "*   MSE on test set: 8.3438\n",
        "*   API ETAon test set: 13.7135\n",
        "*   MAE on test set: 2.0780\n",
        "*   API ETA on test set: 2.7047"
      ],
      "metadata": {
        "id": "T9oPiQ1vJ39h"
      }
    },
    {
      "cell_type": "code",
      "source": [
        "# HistGradientBoostingRegressor 적용\n",
        "# loss='squared_error', quantile=None, learning_rate=0.1, max_iter=100,\n",
        "# max_leaf_nodes=31, max_depth=None, min_samples_leaf=20, l2_regularization=0.0,\n",
        "# max_bins=255, categorical_features=None, monotonic_cst=None, warm_start=False,\n",
        "# early_stopping='auto', scoring='loss', validation_fraction=0.1,\n",
        "# n_iter_no_change=10, tol=1e-07, verbose=0, random_state=None\n",
        "\n",
        "reg = ensemble.HistGradientBoostingRegressor(\n",
        "           max_iter=300, \n",
        "           max_depth=10, \n",
        "           min_samples_leaf=5,\n",
        "           learning_rate=0.05,\n",
        "           loss='squared_error')\n",
        "reg.fit(X_train, Y_train)\n",
        "\n",
        "mse = mean_squared_error(Y_test, reg.predict(X_test))\n",
        "print(\"The mean squared error (MSE) on test set: {:.4f}\".format(mse))\n",
        "print(\"The initial error of API ETA on test set: {:.4f}\".format(mean_squared_error(Y_test, X_test[:,0]) ))\n",
        "\n",
        "mae = mean_absolute_error(Y_test, reg.predict(X_test))\n",
        "print(\"The mean absolute error (MAE) on test set: {:.4f}\".format(mae))\n",
        "print(\"The initial error of API ETA on test set: {:.4f}\".format(mean_absolute_error(Y_test, X_test[:,0]) ))"
      ],
      "metadata": {
        "colab": {
          "base_uri": "https://localhost:8080/"
        },
        "id": "nTlTGnn7LHn6",
        "outputId": "c043893e-9e6a-4170-fadd-9e76c12041ec"
      },
      "execution_count": null,
      "outputs": [
        {
          "output_type": "stream",
          "name": "stdout",
          "text": [
            "The mean squared error (MSE) on test set: 8.3438\n",
            "The initial error of API ETA on test set: 13.7135\n",
            "The mean absolute error (MAE) on test set: 2.0780\n",
            "The initial error of API ETA on test set: 2.7047\n"
          ]
        }
      ]
    },
    {
      "cell_type": "markdown",
      "source": [
        "#### Trial 6 - HistGradientBoostingRegressor + GridSearchCV + PredefinedSplit\n",
        "*   MSE on test set: 8.2547\n",
        "*   API ETAon test set: 13.7135\n",
        "*   MAE on test set: 2.0709\n",
        "*   API ETA on test set: 2.7047"
      ],
      "metadata": {
        "id": "Ti6C6IkQJwcT"
      }
    },
    {
      "cell_type": "code",
      "source": [
        "from sklearn.model_selection import GridSearchCV\n",
        "from sklearn.model_selection import PredefinedSplit\n",
        "\n",
        "# train set과 test set의 input과 output를 각각 이어 붙여서 X,y를 정의\n",
        "X = np.concatenate((X_train,X_test), axis=0)\n",
        "Y = np.concatenate((Y_train,Y_test), axis=0)\n",
        "\n",
        "# 전체 데이터 X에서 training data에 해당하는 index는 -1, test data에 해당하는 index는 0이 되도록,\n",
        "# 여기서는 [-1, -1, ... , -1, 0, 0, ... , 0] 같은 형태의 1차원 배열 test fold와 predefined split을 정의\n",
        "pds = PredefinedSplit(test_fold=[-1]*len(X_train)+[0]*len(X_test))\n",
        "\n",
        "# Parameters\n",
        "# loss='squared_error', quantile=None, learning_rate=0.1, max_iter=100,\n",
        "# max_leaf_nodes=31, max_depth=None, min_samples_leaf=20, l2_regularization=0.0,\n",
        "# max_bins=255, categorical_features=None, monotonic_cst=None, warm_start=False,\n",
        "# early_stopping='auto', scoring='loss', validation_fraction=0.1,\n",
        "# n_iter_no_change=10, tol=1e-07, verbose=0, random_state=None\n",
        "\n",
        "param_grid = {'loss': ['squared_error'],\n",
        "              'learning_rate': [0.1, 0.07, 0.05, 0.03, 0.01],\n",
        "              'max_iter': [100, 200, 300],\n",
        "              'max_leaf_nodes': [2, 5, 10, 20, 30, 50], # 2보다 작으면 안됨\n",
        "              'max_depth': [2, 5, 10, 15]\n",
        "              }\n",
        "# grid search 모델 정의, 학습 및 model selection\n",
        "grid_search = GridSearchCV(estimator=ensemble.HistGradientBoostingRegressor(), \n",
        "                           param_grid=param_grid, \n",
        "                           cv=pds, n_jobs=-1, scoring='neg_mean_squared_error', verbose=2)\n",
        "grid_search.fit(X, Y)\n",
        "print(grid_search.best_params_)\n",
        "\n",
        "# 분석 결과\n",
        "# Fitting 1 folds for each of 360 candidates, totalling 360 fits\n",
        "# {'learning_rate': 0.1, 'loss': 'squared_error', 'max_depth': 5, 'max_iter': 200, 'max_leaf_nodes': 5}"
      ],
      "metadata": {
        "colab": {
          "base_uri": "https://localhost:8080/"
        },
        "id": "X8hZiCd2MenI",
        "outputId": "f7248f87-3d52-424b-9227-2c7bd69de896"
      },
      "execution_count": null,
      "outputs": [
        {
          "output_type": "stream",
          "name": "stdout",
          "text": [
            "Fitting 1 folds for each of 360 candidates, totalling 360 fits\n",
            "{'learning_rate': 0.1, 'loss': 'squared_error', 'max_depth': 5, 'max_iter': 200, 'max_leaf_nodes': 5}\n"
          ]
        }
      ]
    },
    {
      "cell_type": "code",
      "source": [
        "reg = ensemble.HistGradientBoostingRegressor(\n",
        "    loss='squared_error',\n",
        "    learning_rate=0.1,\n",
        "    max_iter=200,\n",
        "    max_leaf_nodes=5,\n",
        "    max_depth=5,\n",
        "    verbose=0\n",
        ")\n",
        "\n",
        "reg.fit(X_train, Y_train)\n",
        "\n",
        "mse = mean_squared_error(Y_test, reg.predict(X_test))\n",
        "print(\"The mean squared error (MSE) on test set: {:.4f}\".format(mse))\n",
        "print(\"The initial error of API ETA on test set: {:.4f}\".format(mean_squared_error(Y_test, X_test[:,0]) ))\n",
        "\n",
        "mae = mean_absolute_error(Y_test, reg.predict(X_test))\n",
        "print(\"The mean absolute error (MAE) on test set: {:.4f}\".format(mae))\n",
        "print(\"The initial error of API ETA on test set: {:.4f}\".format(mean_absolute_error(Y_test, X_test[:,0]) ))"
      ],
      "metadata": {
        "colab": {
          "base_uri": "https://localhost:8080/"
        },
        "id": "BknOvPk9M1vW",
        "outputId": "a874168c-b635-4c66-e274-d0b21ddc79ec"
      },
      "execution_count": null,
      "outputs": [
        {
          "output_type": "stream",
          "name": "stdout",
          "text": [
            "The mean squared error (MSE) on test set: 8.2575\n",
            "The initial error of API ETA on test set: 13.7135\n",
            "The mean absolute error (MAE) on test set: 2.0701\n",
            "The initial error of API ETA on test set: 2.7047\n"
          ]
        }
      ]
    },
    {
      "cell_type": "code",
      "source": [
        "from sklearn.model_selection import GridSearchCV\n",
        "from sklearn.model_selection import PredefinedSplit\n",
        "\n",
        "# train set과 test set의 input과 output를 각각 이어 붙여서 X,y를 정의\n",
        "X = np.concatenate((x_train,x_test), axis=0)\n",
        "Y = np.concatenate((y_train,y_test), axis=0)\n",
        "\n",
        "# 전체 데이터 X에서 training data에 해당하는 index는 -1, test data에 해당하는 index는 0이 되도록,\n",
        "# 여기서는 [-1, -1, ... , -1, 0, 0, ... , 0] 같은 형태의 1차원 배열 test fold와 predefined split을 정의\n",
        "pds = PredefinedSplit(test_fold=[-1]*len(x_train)+[0]*len(x_test))\n",
        "\n",
        "param_grid = {'loss': ['squared_error'],\n",
        "              'learning_rate': [0.1, 0.07, 0.05, 0.03, 0.01],\n",
        "              'max_iter': [100, 200, 300],\n",
        "              'max_leaf_nodes': [2, 5, 10, 20, 30, 50], # 2보다 작으면 안됨\n",
        "              'max_depth': [2, 5, 10, 15]\n",
        "              }\n",
        "# grid search 모델 정의, 학습 및 model selection\n",
        "grid_search = GridSearchCV(estimator=ensemble.HistGradientBoostingRegressor(), \n",
        "                           param_grid=param_grid, \n",
        "                           cv=pds, n_jobs=-1, scoring='neg_mean_squared_error', verbose=2)\n",
        "grid_search.fit(X, Y)\n",
        "print(grid_search.best_params_)\n",
        "\n",
        "# 분석 결과\n",
        "# Fitting 1 folds for each of 360 candidates, totalling 360 fits\n",
        "# {'learning_rate': 0.1, 'loss': 'squared_error', 'max_depth': 5, 'max_iter': 200, 'max_leaf_nodes': 5}"
      ],
      "metadata": {
        "colab": {
          "base_uri": "https://localhost:8080/"
        },
        "id": "rNbei6uokScw",
        "outputId": "91fc49af-822d-42fd-9e7b-eac5fb3e0999"
      },
      "execution_count": null,
      "outputs": [
        {
          "output_type": "stream",
          "name": "stdout",
          "text": [
            "Fitting 1 folds for each of 360 candidates, totalling 360 fits\n",
            "{'learning_rate': 0.1, 'loss': 'squared_error', 'max_depth': 2, 'max_iter': 200, 'max_leaf_nodes': 30}\n"
          ]
        }
      ]
    },
    {
      "cell_type": "code",
      "source": [
        "reg = ensemble.HistGradientBoostingRegressor(\n",
        "    loss='squared_error',\n",
        "    learning_rate=0.1,\n",
        "    max_iter=200,\n",
        "    max_leaf_nodes=30,\n",
        "    max_depth=2,\n",
        "    verbose=0\n",
        ")\n",
        "\n",
        "reg.fit(x_train, y_train)\n",
        "\n",
        "mse = mean_squared_error(y_test, reg.predict(x_test))\n",
        "print(\"The mean squared error (MSE) on test set: {:.4f}\".format(mse))\n",
        "print(\"The initial error of API ETA on test set: {:.4f}\".format(mean_squared_error(y_test, x_test[:,0]) ))\n",
        "\n",
        "mae = mean_absolute_error(y_test, reg.predict(x_test))\n",
        "print(\"The mean absolute error (MAE) on test set: {:.4f}\".format(mae))\n",
        "print(\"The initial error of API ETA on test set: {:.4f}\".format(mean_absolute_error(y_test, x_test[:,0]) ))"
      ],
      "metadata": {
        "colab": {
          "base_uri": "https://localhost:8080/"
        },
        "id": "SfhpIEGwkSKM",
        "outputId": "68ba44ec-534e-4902-cf75-f6f61a2accc5"
      },
      "execution_count": null,
      "outputs": [
        {
          "output_type": "stream",
          "name": "stdout",
          "text": [
            "The mean squared error (MSE) on test set: 8.2968\n",
            "The initial error of API ETA on test set: 13.7135\n",
            "The mean absolute error (MAE) on test set: 2.0772\n",
            "The initial error of API ETA on test set: 2.7047\n"
          ]
        }
      ]
    },
    {
      "cell_type": "markdown",
      "source": [
        "#### Trial 7 - Random Forest Boosting + GridSearchCV + PredefinedSplit + Ordinal Encoding\n",
        "*   MSE on test set: 8.2673\n",
        "*   API ETAon test set: 13.7135\n",
        "*   MAE on test set: 2.0782\n",
        "*   API ETA on test set: 2.7047"
      ],
      "metadata": {
        "id": "36PK9v-BVyWE"
      }
    },
    {
      "cell_type": "code",
      "source": [
        "from sklearn.model_selection import GridSearchCV\n",
        "from sklearn.model_selection import PredefinedSplit\n",
        "from sklearn.metrics import mean_squared_error\n",
        "from sklearn.metrics import mean_absolute_error\n",
        "from sklearn import ensemble"
      ],
      "metadata": {
        "id": "Jts71J-xWoLE"
      },
      "execution_count": null,
      "outputs": []
    },
    {
      "cell_type": "code",
      "source": [
        "# train set과 test set의 input과 output를 각각 이어 붙여서 X,y를 정의\n",
        "X = np.concatenate((X_train,X_test), axis=0)\n",
        "Y = np.concatenate((Y_train,Y_test), axis=0)\n",
        "\n",
        "# 전체 데이터 X에서 training data에 해당하는 index는 -1, test data에 해당하는 index는 0이 되도록,\n",
        "# 여기서는 [-1, -1, ... , -1, 0, 0, ... , 0] 같은 형태의 1차원 배열 test fold와 predefined split을 정의\n",
        "pds = PredefinedSplit(test_fold=[-1]*len(X_train)+[0]*len(X_test))\n",
        "param_grid = {'n_estimators': [100, 200, 300],\n",
        "              'min_samples_leaf': [1, 10, 20],\n",
        "              'max_depth': [2, 5, 10, 15],\n",
        "              'max_features': ['sqrt'],\n",
        "              'criterion': ['squared_error'],\n",
        "              'max_samples': [0.05, 0.07, 0.09],\n",
        "              'random_state': [0],\n",
        "              'ccp_alpha': [0.01]\n",
        "              }\n",
        "# grid search 모델 정의, 학습 및 model selection\n",
        "grid_search = GridSearchCV(estimator=ensemble.RandomForestRegressor(), \n",
        "                           param_grid=param_grid, \n",
        "                           cv=pds, n_jobs=-1, scoring='neg_mean_squared_error', verbose=2)\n",
        "grid_search.fit(X, Y)\n",
        "print(grid_search.best_params_)\n",
        "\n",
        "# 분석 결과\n",
        "#"
      ],
      "metadata": {
        "colab": {
          "base_uri": "https://localhost:8080/"
        },
        "id": "YmFh5kQbfiwt",
        "outputId": "bf36d0dc-4df7-45ed-cbc6-bc5d26d0e1dc"
      },
      "execution_count": null,
      "outputs": [
        {
          "output_type": "stream",
          "name": "stdout",
          "text": [
            "Fitting 1 folds for each of 108 candidates, totalling 108 fits\n",
            "{'ccp_alpha': 0.01, 'criterion': 'squared_error', 'max_depth': 15, 'max_features': 'sqrt', 'max_samples': 0.09, 'min_samples_leaf': 10, 'n_estimators': 300, 'random_state': 0}\n"
          ]
        }
      ]
    },
    {
      "cell_type": "code",
      "source": [
        "reg = ensemble.RandomForestRegressor(\n",
        "           n_estimators=300,  \n",
        "           min_samples_leaf=10,\n",
        "           max_depth=15,\n",
        "           max_features='sqrt',\n",
        "           criterion='squared_error',\n",
        "           random_state=0,\n",
        "           max_samples=0.09,\n",
        "           ccp_alpha=0.01)\n",
        "\n",
        "reg.fit(X_train, Y_train)\n",
        "\n",
        "mse = mean_squared_error(Y_test, reg.predict(X_test))\n",
        "print(\"The mean squared error (MSE) on test set: {:.4f}\".format(mse))\n",
        "print(\"The initial error of API ETA on test set: {:.4f}\".format(mean_squared_error(Y_test, X_test[:,0]) ))\n",
        "\n",
        "mae = mean_absolute_error(Y_test, reg.predict(X_test))\n",
        "print(\"The mean absolute error (MAE) on test set: {:.4f}\".format(mae))\n",
        "print(\"The initial error of API ETA on test set: {:.4f}\".format(mean_absolute_error(Y_test, X_test[:,0]) ))"
      ],
      "metadata": {
        "colab": {
          "base_uri": "https://localhost:8080/"
        },
        "id": "AuAA0SS0XHkK",
        "outputId": "2655a047-56c4-4ac1-8dd8-0dc5709d71d1"
      },
      "execution_count": null,
      "outputs": [
        {
          "output_type": "stream",
          "name": "stdout",
          "text": [
            "The mean squared error (MSE) on test set: 8.2673\n",
            "The initial error of API ETA on test set: 13.7135\n",
            "The mean absolute error (MAE) on test set: 2.0782\n",
            "The initial error of API ETA on test set: 2.7047\n"
          ]
        }
      ]
    },
    {
      "cell_type": "markdown",
      "source": [
        "#### Trial 8 - Decision Tree Regression with AdaBoost\n",
        "*   MSE on test set: 8.8327\n",
        "*   API ETAon test set: 13.7135\n",
        "*   MAE on test set: 2.2136\n",
        "*   API ETA on test set: 2.7047"
      ],
      "metadata": {
        "id": "MhmLEu_3wZy8"
      }
    },
    {
      "cell_type": "code",
      "source": [
        "from sklearn.ensemble import AdaBoostRegressor\n",
        "from sklearn.tree import DecisionTreeRegressor\n",
        "reg = ensemble.AdaBoostRegressor(\n",
        "    base_estimator=DecisionTreeRegressor(max_depth=4),\n",
        "    n_estimators=300,\n",
        "    learning_rate=0.01,\n",
        "    loss='square',\n",
        "    random_state=42\n",
        ")\n",
        "\n",
        "reg.fit(X_train, Y_train)\n",
        "\n",
        "mse = mean_squared_error(Y_test, reg.predict(X_test))\n",
        "print(\"The mean squared error (MSE) on test set: {:.4f}\".format(mse))\n",
        "print(\"The initial error of API ETA on test set: {:.4f}\".format(mean_squared_error(Y_test, X_test[:,0]) ))\n",
        "\n",
        "mae = mean_absolute_error(Y_test, reg.predict(X_test))\n",
        "print(\"The mean absolute error (MAE) on test set: {:.4f}\".format(mae))\n",
        "print(\"The initial error of API ETA on test set: {:.4f}\".format(mean_absolute_error(Y_test, X_test[:,0]) ))"
      ],
      "metadata": {
        "colab": {
          "base_uri": "https://localhost:8080/"
        },
        "id": "PppSn_MuwY2y",
        "outputId": "88976703-f6ae-409d-b70a-d67c3359ea83"
      },
      "execution_count": null,
      "outputs": [
        {
          "output_type": "stream",
          "name": "stdout",
          "text": [
            "The mean squared error (MSE) on test set: 8.8327\n",
            "The initial error of API ETA on test set: 13.7135\n",
            "The mean absolute error (MAE) on test set: 2.2136\n",
            "The initial error of API ETA on test set: 2.7047\n"
          ]
        }
      ]
    },
    {
      "cell_type": "markdown",
      "source": [
        "#### Trial 9 - 서울 교통데이터셋 활용 + HistGradientBoostingRegressor + GridSearchCV + PredefinedSplit\n",
        "*   MSE on test set: 8.3484\n",
        "*   API ETAon test set: 13.7135\n",
        "*   MAE on test set: 2.0760\n",
        "*   API ETA on test set: 2.7047"
      ],
      "metadata": {
        "id": "n16OCVZ7gAW6"
      }
    },
    {
      "cell_type": "code",
      "source": [
        "from sklearn.model_selection import GridSearchCV\n",
        "from sklearn.model_selection import PredefinedSplit\n",
        "\n",
        "# train set과 test set의 input과 output를 각각 이어 붙여서 X,y를 정의\n",
        "X = np.concatenate((X_train,X_test), axis=0)\n",
        "Y = np.concatenate((Y_train,Y_test), axis=0)\n",
        "\n",
        "# 전체 데이터 X에서 training data에 해당하는 index는 -1, test data에 해당하는 index는 0이 되도록,\n",
        "# 여기서는 [-1, -1, ... , -1, 0, 0, ... , 0] 같은 형태의 1차원 배열 test fold와 predefined split을 정의\n",
        "pds = PredefinedSplit(test_fold=[-1]*len(X_train)+[0]*len(X_test))\n",
        "\n",
        "# Parameters\n",
        "# loss='squared_error', quantile=None, learning_rate=0.1, max_iter=100,\n",
        "# max_leaf_nodes=31, max_depth=None, min_samples_leaf=20, l2_regularization=0.0,\n",
        "# max_bins=255, categorical_features=None, monotonic_cst=None, warm_start=False,\n",
        "# early_stopping='auto', scoring='loss', validation_fraction=0.1,\n",
        "# n_iter_no_change=10, tol=1e-07, verbose=0, random_state=None\n",
        "\n",
        "param_grid = {'loss': ['squared_error'],\n",
        "              'learning_rate': [0.1, 0.07, 0.05, 0.03, 0.01],\n",
        "              'max_iter': [100, 200, 300],\n",
        "              'max_leaf_nodes': [2, 5, 10, 20, 30, 50], # 2보다 작으면 안됨\n",
        "              'max_depth': [2, 5, 10, 15],\n",
        "#              'categorical_features': [3],\n",
        "              }\n",
        "# grid search 모델 정의, 학습 및 model selection\n",
        "grid_search = GridSearchCV(estimator=ensemble.HistGradientBoostingRegressor(), \n",
        "                           param_grid=param_grid, \n",
        "                           cv=pds, n_jobs=-1, scoring='neg_mean_squared_error', verbose=2)\n",
        "grid_search.fit(X, Y)\n",
        "print(grid_search.best_params_)\n",
        "\n",
        "# 분석 결과\n",
        "# Fitting 1 folds for each of 360 candidates, totalling 360 fits\n",
        "# {'learning_rate': 0.07, 'loss': 'squared_error', 'max_depth': 2, 'max_iter': 300, 'max_leaf_nodes': 10}"
      ],
      "metadata": {
        "colab": {
          "base_uri": "https://localhost:8080/"
        },
        "id": "kBQiaYhn-0--",
        "outputId": "9e0a8a5d-de47-48a6-f413-411bef6b9435"
      },
      "execution_count": null,
      "outputs": [
        {
          "output_type": "stream",
          "name": "stdout",
          "text": [
            "Fitting 1 folds for each of 360 candidates, totalling 360 fits\n",
            "{'learning_rate': 0.07, 'loss': 'squared_error', 'max_depth': 2, 'max_iter': 300, 'max_leaf_nodes': 10}\n"
          ]
        }
      ]
    },
    {
      "cell_type": "code",
      "source": [
        "reg = ensemble.HistGradientBoostingRegressor(\n",
        "    loss='squared_error',\n",
        "    learning_rate=0.07,\n",
        "    max_iter=300,\n",
        "    max_leaf_nodes=10,\n",
        "    max_depth=2,\n",
        "    verbose=0\n",
        ")\n",
        "\n",
        "reg.fit(X_train, Y_train)\n",
        "\n",
        "mse = mean_squared_error(Y_test, reg.predict(X_test))\n",
        "print(\"The mean squared error (MSE) on test set: {:.4f}\".format(mse))\n",
        "print(\"The initial error of API ETA on test set: {:.4f}\".format(mean_squared_error(Y_test, X_test[:,0]) ))\n",
        "\n",
        "mae = mean_absolute_error(Y_test, reg.predict(X_test))\n",
        "print(\"The mean absolute error (MAE) on test set: {:.4f}\".format(mae))\n",
        "print(\"The initial error of API ETA on test set: {:.4f}\".format(mean_absolute_error(Y_test, X_test[:,0]) ))"
      ],
      "metadata": {
        "colab": {
          "base_uri": "https://localhost:8080/"
        },
        "id": "F6XEtQAq_J33",
        "outputId": "478e7d4a-faa2-463f-f544-57064fb08c1d"
      },
      "execution_count": null,
      "outputs": [
        {
          "output_type": "stream",
          "name": "stdout",
          "text": [
            "The mean squared error (MSE) on test set: 8.3484\n",
            "The initial error of API ETA on test set: 13.7135\n",
            "The mean absolute error (MAE) on test set: 2.0760\n",
            "The initial error of API ETA on test set: 2.7047\n"
          ]
        }
      ]
    },
    {
      "cell_type": "markdown",
      "source": [
        "#### Trial 10 - 다양한 하이퍼파라미터 최적화 모델 활용 \n",
        "(기본 조건) \n",
        "서울 교통데이터셋 활용 + HistGradientBoostingRegressor + GridSearchCV + PredefinedSplit"
      ],
      "metadata": {
        "id": "UOhxBc9ugreX"
      }
    },
    {
      "cell_type": "markdown",
      "source": [
        "##### 1. 랜덤 서치\n",
        "*   MSE on test set: 8.3253\n",
        "*   API ETAon test set: 13.7135\n",
        "*   MAE on test set: 2.0810\n",
        "*   API ETA on test set: 2.7047"
      ],
      "metadata": {
        "id": "OniHCjPDhLcn"
      }
    },
    {
      "cell_type": "code",
      "source": [
        "# 랜덤 서치\n",
        "from sklearn.model_selection import RandomizedSearchCV\n",
        "from sklearn.model_selection import cross_val_score\n",
        "from sklearn.model_selection import GridSearchCV\n",
        "from sklearn.model_selection import PredefinedSplit\n",
        "\n",
        "# train set과 test set의 input과 output를 각각 이어 붙여서 X,y를 정의\n",
        "X = np.concatenate((X_train,X_test), axis=0)\n",
        "Y = np.concatenate((Y_train,Y_test), axis=0)\n",
        "\n",
        "pds = PredefinedSplit(test_fold=[-1]*len(X_train)+[0]*len(X_test))\n",
        "\n",
        "random_search = {'loss': ['squared_error'],\n",
        "                 'learning_rate': [0.1, 0.07, 0.05, 0.03, 0.01],\n",
        "                 'max_iter': [100, 200, 300],\n",
        "                 'max_leaf_nodes': [2, 5, 10, 20, 30, 50], # 2보다 작으면 안됨\n",
        "                 'max_depth': [2, 5, 10, 15],\n",
        "                 }\n",
        "\n",
        "random = RandomizedSearchCV(estimator = ensemble.HistGradientBoostingRegressor(), param_distributions = random_search, n_iter = 10, \n",
        "                               cv = pds, verbose= 2, random_state= 101, n_jobs = -1)\n",
        "random.fit(X,Y)\n",
        "print(random.best_params_)\n",
        "\n",
        "# 분석결과\n",
        "# Fitting 1 folds for each of 10 candidates, totalling 10 fits\n",
        "#{'max_leaf_nodes': 50, 'max_iter': 300, 'max_depth': 2, 'loss': 'squared_error', 'learning_rate': 0.05}"
      ],
      "metadata": {
        "colab": {
          "base_uri": "https://localhost:8080/"
        },
        "id": "fuUBukAMKlLK",
        "outputId": "5776ffee-6eac-4f53-aa03-d7234c2f963d"
      },
      "execution_count": null,
      "outputs": [
        {
          "output_type": "stream",
          "name": "stdout",
          "text": [
            "Fitting 1 folds for each of 10 candidates, totalling 10 fits\n",
            "{'max_leaf_nodes': 50, 'max_iter': 300, 'max_depth': 2, 'loss': 'squared_error', 'learning_rate': 0.05}\n"
          ]
        }
      ]
    },
    {
      "cell_type": "code",
      "source": [
        "reg = ensemble.HistGradientBoostingRegressor(\n",
        "    loss='squared_error',\n",
        "    learning_rate=0.05,\n",
        "    max_iter=300,\n",
        "    max_leaf_nodes=50,\n",
        "    max_depth=2\n",
        ")\n",
        "\n",
        "reg.fit(X_train, Y_train)\n",
        "\n",
        "mse = mean_squared_error(Y_test, reg.predict(X_test))\n",
        "print(\"The mean squared error (MSE) on test set: {:.4f}\".format(mse))\n",
        "print(\"The initial error of API ETA on test set: {:.4f}\".format(mean_squared_error(Y_test, X_test[:,0]) ))\n",
        "\n",
        "mae = mean_absolute_error(Y_test, reg.predict(X_test))\n",
        "print(\"The mean absolute error (MAE) on test set: {:.4f}\".format(mae))\n",
        "print(\"The initial error of API ETA on test set: {:.4f}\".format(mean_absolute_error(Y_test, X_test[:,0]) ))"
      ],
      "metadata": {
        "colab": {
          "base_uri": "https://localhost:8080/"
        },
        "id": "Z-0pMiq5Lnom",
        "outputId": "52adb8db-54a5-451d-dd54-69bdd316db2e"
      },
      "execution_count": null,
      "outputs": [
        {
          "output_type": "stream",
          "name": "stdout",
          "text": [
            "The mean squared error (MSE) on test set: 8.3253\n",
            "The initial error of API ETA on test set: 13.7135\n",
            "The mean absolute error (MAE) on test set: 2.0810\n",
            "The initial error of API ETA on test set: 2.7047\n"
          ]
        }
      ]
    },
    {
      "cell_type": "markdown",
      "source": [
        "##### 2. HyperOpt\n",
        "*   작동 오류 해결 X"
      ],
      "metadata": {
        "id": "YRbFY6q0hRK7"
      }
    },
    {
      "cell_type": "code",
      "source": [
        "from hyperopt import hp, fmin, tpe, STATUS_OK, Trials\n",
        "\n",
        "# space: 알고리즘이 탐색할 범위를 정의한다. \n",
        "# hp.choice: 리스트 내의 값을 무작위로 추출\n",
        "# hp.uniform: 정의된 범위 내에서 임의의 숫자를 무작위 추출\n",
        "# hp.quniform: 정의된 범위 내에서 마지막 숫자만큼의 간격을 두어 숫자를 추출 \n",
        "space = {'learning_rate': hp.quniform('learning_rate', 0.01, 0.1),\n",
        "        'max_iter': hp.uniform ('max_iter', 50, 400),\n",
        "        'max_leaf_nodes' : hp.uniform ('max_leaf_nodes', 2, 50),\n",
        "        'max_depth' : hp.uniform ('max_depth', 2, 15)\n",
        "    }\n",
        "#pds = PredefinedSplit(test_fold=[-1]*len(X_train)+[0]*len(X_test))\n",
        "def objective(space):\n",
        "    hopt = HistGradientBoostingRegressor(learning_rate = space['learning_rate'], \n",
        "                                         max_iter = space['max_iter'],\n",
        "                                         max_leaf_nodes = space['max_leaf_nodes'],\n",
        "                                         max_depth = space['max_depth'])\n",
        "    \n",
        "    accuracy = cross_val_score(hopt, X, Y, cv = 4).mean()\n",
        "\n",
        "    # We aim to maximize accuracy, therefore we return it as a negative value\n",
        "    return {'loss': -accuracy, 'status': STATUS_OK }\n",
        "    \n",
        "trials = Trials()\n",
        "best = fmin(fn= objective,\n",
        "            space= space,\n",
        "            algo= tpe.suggest,\n",
        "            max_evals = 20,\n",
        "            trials= trials)\n",
        "\n",
        "# 최적의 하이퍼파라미터 조합\n",
        "best"
      ],
      "metadata": {
        "id": "0ViFqZluMeVS"
      },
      "execution_count": null,
      "outputs": []
    },
    {
      "cell_type": "markdown",
      "source": [
        "##### 3. Optuna\n",
        "*   MSE on test set: 10.5885\n",
        "*   API ETAon test set: 13.7135\n",
        "*   MAE on test set: 2.3973\n",
        "*   API ETA on test set: 2.7047"
      ],
      "metadata": {
        "id": "sp2OvkWtfxg5"
      }
    },
    {
      "cell_type": "code",
      "source": [
        "!pip install optuna"
      ],
      "metadata": {
        "id": "WlVPU7zNU4qU"
      },
      "execution_count": null,
      "outputs": []
    },
    {
      "cell_type": "code",
      "source": [
        "import optuna\n",
        "# train set과 test set의 input과 output를 각각 이어 붙여서 X,y를 정의\n",
        "X = np.concatenate((X_train,X_test), axis=0)\n",
        "Y = np.concatenate((Y_train,Y_test), axis=0)\n",
        "\n",
        "\n",
        "# 1. 최소화/최대화할 목적함수 정의\n",
        "def objective(trial):\n",
        "    rf_max_depth = int(trial.suggest_int('rf_max_depth', 2, 32))\n",
        "    rf_max_leaf_nodes = int(trial.suggest_int('rf_max_leaf_nodes', 2, 50))\n",
        "    rf_max_iter = int(trial.suggest_int('rf_max_iter', 100, 500))\n",
        "    rf_learning_rate = float(trial.suggest_loguniform('rf_learning_rate', 0.01, 0.1))\n",
        "\n",
        "    pds = PredefinedSplit(test_fold=[-1]*len(X_train)+[0]*len(X_test))\n",
        "\n",
        "    reg = sklearn.ensemble.HistGradientBoostingRegressor(max_depth=rf_max_depth,\n",
        "                                                         loss='squared_error',\n",
        "                                                         max_leaf_nodes=rf_max_leaf_nodes,\n",
        "                                                         max_iter=rf_max_iter,\n",
        "                                                         learning_rate=rf_learning_rate)\n",
        "    \n",
        "    accuracy = cross_val_score(reg, X, Y, cv = pds).mean()\n",
        "    return accuracy\n",
        "\n",
        "# 3. study 오브젝트 생성하고 목적함수 최적화하는 단계\n",
        "# 여기서는 목적함수를 정확도로 설정했기 때문에 최대화를 목표로 하고 있지만, 손실함수의 경우 direction='minimize'로 설정\n",
        "study = optuna.create_study(direction='minimize')\n",
        "# 반복 시행 횟수(trial)는 200번으로\n",
        "study.optimize(objective, n_trials=200)"
      ],
      "metadata": {
        "id": "0bo9RmjZPnKQ"
      },
      "execution_count": null,
      "outputs": []
    },
    {
      "cell_type": "code",
      "source": [
        "# 시행된 trial 중 최적의 하이퍼파라미터 반환하는 메소드\n",
        "print(study.best_trial.params)\n",
        "\n",
        "# 시행된 trial 중 가장 높은 값 반환하는 메소드\n",
        "optuna_acc = study.best_trial.value\n",
        "print(optuna_acc)\n",
        "\n",
        "# 결과값\n",
        "# {'rf_max_depth': 13.808228053851465, 'rf_max_leaf_nodes': 2.109566678769237, 'rf_max_iter': 100.26929297236693, 'rf_learning_rate': 0.010015290001439189}\n",
        "# 0.32288843106302156"
      ],
      "metadata": {
        "colab": {
          "base_uri": "https://localhost:8080/"
        },
        "id": "qaSlBO4FPr5i",
        "outputId": "f917bc8f-0701-4823-d16c-0033cf18cdd3"
      },
      "execution_count": null,
      "outputs": [
        {
          "output_type": "stream",
          "name": "stdout",
          "text": [
            "{'rf_max_depth': 4, 'rf_max_leaf_nodes': 2, 'rf_max_iter': 108, 'rf_learning_rate': 0.013014840559481598}\n",
            "0.3707990609359766\n"
          ]
        }
      ]
    },
    {
      "cell_type": "code",
      "source": [
        "reg = ensemble.HistGradientBoostingRegressor(\n",
        "    loss='squared_error',\n",
        "    learning_rate=0.013,\n",
        "    max_iter=108,\n",
        "    max_leaf_nodes=2,\n",
        "    max_depth=4\n",
        ")\n",
        "\n",
        "reg.fit(X_train, Y_train)\n",
        "\n",
        "mse = mean_squared_error(Y_test, reg.predict(X_test))\n",
        "print(\"The mean squared error (MSE) on test set: {:.4f}\".format(mse))\n",
        "print(\"The initial error of API ETA on test set: {:.4f}\".format(mean_squared_error(Y_test, X_test[:,0]) ))\n",
        "\n",
        "mae = mean_absolute_error(Y_test, reg.predict(X_test))\n",
        "print(\"The mean absolute error (MAE) on test set: {:.4f}\".format(mae))\n",
        "print(\"The initial error of API ETA on test set: {:.4f}\".format(mean_absolute_error(Y_test, X_test[:,0]) ))"
      ],
      "metadata": {
        "colab": {
          "base_uri": "https://localhost:8080/"
        },
        "id": "wBi7xnJAVvN1",
        "outputId": "ca416009-8a90-48f6-a820-d566e5293039"
      },
      "execution_count": null,
      "outputs": [
        {
          "output_type": "stream",
          "name": "stdout",
          "text": [
            "The mean squared error (MSE) on test set: 10.5885\n",
            "The initial error of API ETA on test set: 13.7135\n",
            "The mean absolute error (MAE) on test set: 2.3973\n",
            "The initial error of API ETA on test set: 2.7047\n"
          ]
        }
      ]
    }
  ]
}